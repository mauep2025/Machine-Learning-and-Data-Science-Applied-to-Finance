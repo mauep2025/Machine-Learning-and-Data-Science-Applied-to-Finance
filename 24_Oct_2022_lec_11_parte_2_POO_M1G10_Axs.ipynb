{
 "cells": [
  {
   "cell_type": "markdown",
   "metadata": {
    "id": "5PcoPkFKPUum"
   },
   "source": [
    "![](https://www.adaweb.es/wp-content/uploads/2022/04/programacion_orientada_objetos.jpg)"
   ]
  },
  {
   "cell_type": "markdown",
   "metadata": {
    "id": "hVyYD30yF_Pc"
   },
   "source": [
    "## ¿Que es la programacion orientada a objetos (OOP)?\n",
    "\n",
    "Se le conoce *programacion orientada a objetos* a una manera o estilo de programar la cual se creó con la intencion de hacer la programacion mas intuitiva relacionandola a partir de como percibimos las cosas en la vida cotidiana.\n",
    "\n",
    "Por ejemplo si utilizamos un **objeto** en la vida real, esperamos que realice una acción.\n",
    "\n",
    "*Si ocupamos una lavadora, espero lave mi ropa.*\n",
    "\n",
    "![](https://s3.amazonaws.com/bprblogassets/blog/wp-content/uploads/2021/12/21185413/Laundry-Room.jpg)\n",
    "\n",
    "\n",
    "Los lenguajes de programación más modernos como Java, C# y Python ocupan este estilo de programación, por lo tanto nosotros podemos programar objetos para que realicen las acciones que nosotros les indiquemos.\n",
    "\n",
    "\n",
    "\n"
   ]
  },
  {
   "cell_type": "markdown",
   "metadata": {
    "id": "nlAFFUMOGI5S"
   },
   "source": [
    "## Caracteristicas de un objeto en programación\n",
    "\n",
    "En general, un objeto cuenta con dos características especiales:\n",
    "* Funcionamiento\n",
    "* Atributos\n",
    "\n",
    "Por ejemplo si nuestro objeto fuera una persona tendriamos:\n",
    "* Nombre, apellido, edad serían sus **atributos**\n",
    "* Correr, Programar, Estudiar serían sus **funcionalidades**\n",
    "\n",
    "![](https://concepto.de/wp-content/uploads/2018/08/persona-e1533759204552.jpg)"
   ]
  },
  {
   "cell_type": "markdown",
   "metadata": {
    "id": "6H88LzTtROtJ"
   },
   "source": [
    "Ahora si consideramos una lista de python\n",
    "\n",
    "```python\n",
    "elements = [3.14, \"e\", \"x^2\"]\n",
    "```\n",
    "\n",
    "¿Qué atributos y que funcionalidades tendría la lista?"
   ]
  },
  {
   "cell_type": "code",
   "execution_count": 71,
   "metadata": {
    "id": "ScF1yJE-RYwp"
   },
   "outputs": [
    {
     "data": {
      "text/plain": [
       "[3.14, 'e', 'x^2', 'four']"
      ]
     },
     "execution_count": 71,
     "metadata": {},
     "output_type": "execute_result"
    }
   ],
   "source": [
    "elements = [3.14, \"e\", \"x^2\"]\n",
    "\n",
    "# Ans:\n",
    "# Realmente una lista no cuenta con atributos, ya que todos los elementos a los que podemos\n",
    "# acceder son métodos (funcionalidades)\n",
    "elements.append(\"four\") # Una funcionaidad\n",
    "elements"
   ]
  },
  {
   "cell_type": "code",
   "execution_count": 72,
   "metadata": {
    "id": "Uk8QJeOERYwq"
   },
   "outputs": [
    {
     "data": {
      "text/plain": [
       "1"
      ]
     },
     "execution_count": 72,
     "metadata": {},
     "output_type": "execute_result"
    }
   ],
   "source": [
    "elements.count(\"e\") # Otra funcionalidad de la lista"
   ]
  },
  {
   "cell_type": "markdown",
   "metadata": {
    "id": "V7cnJudLSDZk"
   },
   "source": [
    "Hasta ahora hemos visto diferentes *clases* de objetos\n",
    "* `dict`\n",
    "* `float`\n",
    "* `str`\n",
    "* `set`\n",
    "* ...\n",
    "\n",
    "Cada uno con su propia funcionalidad. Pero, ¿qué sucedería si desearamos declarar nuestra propia clase? Podríamos definir una nueva clase para:\n",
    "* Trabajar con elementos matriciales\n",
    "* Una caja registadora\n",
    "* Trabajar con el tiempo"
   ]
  },
  {
   "cell_type": "markdown",
   "metadata": {
    "id": "Q115rs6dFhh7"
   },
   "source": [
    "## Definiendo Clases en Python\n",
    "En python, definimos una clase por medio del keyword `class`.  \n",
    "Supongamos queremos definir una clase `Human`."
   ]
  },
  {
   "cell_type": "code",
   "execution_count": 73,
   "metadata": {
    "id": "6HGHN5-2Fhh8"
   },
   "outputs": [
    {
     "data": {
      "text/plain": [
       "__main__.Human"
      ]
     },
     "execution_count": 73,
     "metadata": {},
     "output_type": "execute_result"
    }
   ],
   "source": [
    "class Human:\n",
    "    pass #porque no le estoy poniendo nada, definirla sin ningún método ni atributo\n",
    "\n",
    "isaac = Human()\n",
    "type(isaac)  #está contenida en la conjunto de clases 'main'"
   ]
  },
  {
   "cell_type": "markdown",
   "metadata": {
    "id": "1IWc2DXuFhh8"
   },
   "source": [
    "Isaac es una variable que guarda un objeto de clase `Human`. Sin embargo, `isaac`no tiene ningun atributo o funcionalidad definida hasta el momento. Al momento de crear una **instancia de una clase**, en ocasiones, es necesario *construir* nuestra clase o inicializar los elementos de la clase.\n",
    "\n",
    "Al definir un humano, tendría sentido tener un *nombre*, *apellido*, *edad* y *sexo* al momento de definir una nueva instancia de un `Human`. Para esto es necesario tener un **constructor** con las propiedades básicas de un humano al momento de su creación. Dentro de una clase, definimos su constructor por medio de `__init__`\n",
    "\n",
    "```python\n",
    "class ClassName:\n",
    "    def __init__(self, p1, p2, .., pk):\n",
    "        self.p1 = p1\n",
    "        self.p2 = p2\n",
    "        ...\n",
    "        self.pk = pk \n",
    "```\n",
    "\n",
    "Donde:\n",
    "* `self` hace referencia al objeto en cuestión, i.e., a la instancia del objeto definido.\n",
    "* `p1, ..., pk` son los parámetros que le daremos al constructor\n",
    "* `self.p1, ..., self.pk` son atributos o funcionalidades que la instancia del objeto tendrá definida\n",
    "\n",
    "**Nota**:\n",
    "* `pi` es un elemento que no existe dentro de la clase \n",
    "* `self.pi` es un elemento de la clase\n",
    "\n",
    "Podemos pensar la diferencia entre `pi` y `self.pi` considerando la clase `Human` que estamos definiendo: `nombre` sería el nombre que el padre de un humano desea darle a su hijo. Cuando escribimos, dentro de la clase, `self.nombre = nombre` le asignamos al humano el nombre deseado."
   ]
  },
  {
   "cell_type": "code",
   "execution_count": 74,
   "metadata": {
    "id": "fvCX_0DvFhh8"
   },
   "outputs": [],
   "source": [
    "class Human:\n",
    "    def __init__(self, name, last_name, age, gender):\n",
    "        self.name = name\n",
    "        self.last_name = last_name\n",
    "        self.age = age\n",
    "        self.gender = gender"
   ]
  },
  {
   "cell_type": "markdown",
   "metadata": {
    "id": "yS4TjOHuFhh8"
   },
   "source": [
    "Aquí agregamos un elemento de la `clase` Human con sus propias características.\n",
    "\n",
    "\n",
    "Es importante destacar que la palabra `self` es utilizada como convención, NO es una palabra reservada para las clases"
   ]
  },
  {
   "cell_type": "code",
   "execution_count": 75,
   "metadata": {
    "id": "tR3_WDQPFhh9"
   },
   "outputs": [],
   "source": [
    "Charly = Human(\"Carlos\", \"Pérez\", 70, \"male\")"
   ]
  },
  {
   "cell_type": "markdown",
   "metadata": {
    "id": "pf_LhM21Fhh9"
   },
   "source": [
    "Para llamar a los atributos de la clase se utiliza el mismo tipo de llamado: `elemento.atributo`"
   ]
  },
  {
   "cell_type": "code",
   "execution_count": 76,
   "metadata": {
    "id": "91mBEmOCFhh9"
   },
   "outputs": [
    {
     "data": {
      "text/plain": [
       "'Carlos'"
      ]
     },
     "execution_count": 76,
     "metadata": {},
     "output_type": "execute_result"
    }
   ],
   "source": [
    "Charly.name"
   ]
  },
  {
   "cell_type": "code",
   "execution_count": 80,
   "metadata": {
    "id": "8tu1jrWDFhh9"
   },
   "outputs": [
    {
     "data": {
      "text/plain": [
       "70"
      ]
     },
     "execution_count": 80,
     "metadata": {},
     "output_type": "execute_result"
    }
   ],
   "source": [
    "Charly.age"
   ]
  },
  {
   "cell_type": "code",
   "execution_count": 78,
   "metadata": {
    "id": "mbeONZ3NFhh-"
   },
   "outputs": [
    {
     "data": {
      "text/plain": [
       "__main__.Human"
      ]
     },
     "execution_count": 78,
     "metadata": {},
     "output_type": "execute_result"
    }
   ],
   "source": [
    "type(Charly)"
   ]
  },
  {
   "cell_type": "markdown",
   "metadata": {
    "id": "QVkQutkmFhh-"
   },
   "source": [
    "Un objeto debe tener tanto atributos como funcionalidad. En el caso de un humano, una funcionalidad que podría tener es cumplir años. Para esto, podemos definir un nuevo **método** que modifique la edad de nuestro `Human`"
   ]
  },
  {
   "cell_type": "code",
   "execution_count": 82,
   "metadata": {
    "id": "JFPPxMVDFhh-"
   },
   "outputs": [],
   "source": [
    "class Human:\n",
    "    # __init__ únicamente inicializa la clase con los elementos definidos \n",
    "    def __init__(self, name, last_name, age, gender):\n",
    "        self.name = name\n",
    "        self.last_name = last_name\n",
    "        self.age = age\n",
    "        self.gender = gender\n",
    "    # agregaremos un método que le agregue un año cada que sea su cumpleaños   \n",
    "    def birthday(self):\n",
    "        self.age = self.age + 1"
   ]
  },
  {
   "cell_type": "code",
   "execution_count": 83,
   "metadata": {
    "id": "2Gz4L8FWFhh-"
   },
   "outputs": [],
   "source": [
    "Charly = Human(\"Carlos\", \"Pérez\", 70, \"male\")"
   ]
  },
  {
   "cell_type": "code",
   "execution_count": 86,
   "metadata": {
    "id": "KSI9u7KCFhh_"
   },
   "outputs": [],
   "source": [
    "Charly.birthday()"
   ]
  },
  {
   "cell_type": "code",
   "execution_count": 87,
   "metadata": {
    "id": "3cjn3nGYFhh_"
   },
   "outputs": [
    {
     "data": {
      "text/plain": [
       "72"
      ]
     },
     "execution_count": 87,
     "metadata": {},
     "output_type": "execute_result"
    }
   ],
   "source": [
    "Charly.age"
   ]
  },
  {
   "cell_type": "markdown",
   "metadata": {
    "id": "k0uwE-mxFhh_"
   },
   "source": [
    "### Métodos especiales\n",
    "`__dunders__`\n",
    "\n",
    "Adicional a `__init__`, python cuenta con [métodos especiales](https://docs.python.org/3/reference/datamodel.html#special-method-names) que nos permiten *enriquecer* la funcionalidad de nuestras clases permitiendonos ocupar funciones definidas en python.\n",
    "\n",
    "Como un ejemplo, consideremos la *representación* y la *longitud* de la clase `Human`"
   ]
  },
  {
   "cell_type": "markdown",
   "metadata": {
    "id": "goN6MxeRFhh_"
   },
   "source": [
    "Utilizamos los `dunders` para cambiar los métodos conocidos por unos que faciliten el uso en nuestras clases.Es importante aclarar que cuando se crean clases que emulan un método original, es importante que esta emulación se lleve a cabo de forma tal que haga sentido con el objeto modelado. "
   ]
  },
  {
   "cell_type": "code",
   "execution_count": 88,
   "metadata": {
    "id": "jCSQuu3XFhh_"
   },
   "outputs": [],
   "source": [
    "# definamos dos elementos de la clase Human\n",
    "geof = Human(\"Geoffrey\", \"Hinton\", 70, \"male\")\n",
    "demis = Human(\"Demis\", \"Hassabis\", 42, \"male\")\n"
   ]
  },
  {
   "cell_type": "code",
   "execution_count": 89,
   "metadata": {
    "id": "fMq--KfLFhh_"
   },
   "outputs": [
    {
     "ename": "TypeError",
     "evalue": "object of type 'Human' has no len()",
     "output_type": "error",
     "traceback": [
      "\u001b[0;31m---------------------------------------------------------------------------\u001b[0m",
      "\u001b[0;31mTypeError\u001b[0m                                 Traceback (most recent call last)",
      "\u001b[0;32m<ipython-input-89-60e6ff8b12dd>\u001b[0m in \u001b[0;36m<module>\u001b[0;34m\u001b[0m\n\u001b[1;32m      1\u001b[0m \u001b[0;31m#intentemos obtener la longitud (len) del elemento geof\u001b[0m\u001b[0;34m\u001b[0m\u001b[0;34m\u001b[0m\u001b[0;34m\u001b[0m\u001b[0m\n\u001b[0;32m----> 2\u001b[0;31m \u001b[0mlen\u001b[0m\u001b[0;34m(\u001b[0m\u001b[0mgeof\u001b[0m\u001b[0;34m)\u001b[0m\u001b[0;34m\u001b[0m\u001b[0;34m\u001b[0m\u001b[0m\n\u001b[0m",
      "\u001b[0;31mTypeError\u001b[0m: object of type 'Human' has no len()"
     ]
    }
   ],
   "source": [
    "#intentemos obtener la longitud (len) del elemento geof\n",
    "len(geof)"
   ]
  },
  {
   "cell_type": "code",
   "execution_count": 90,
   "metadata": {
    "id": "h3GE-NBCFhiA"
   },
   "outputs": [
    {
     "ename": "TypeError",
     "evalue": "'<' not supported between instances of 'Human' and 'Human'",
     "output_type": "error",
     "traceback": [
      "\u001b[0;31m---------------------------------------------------------------------------\u001b[0m",
      "\u001b[0;31mTypeError\u001b[0m                                 Traceback (most recent call last)",
      "\u001b[0;32m<ipython-input-90-d978cf1c3ef1>\u001b[0m in \u001b[0;36m<module>\u001b[0;34m\u001b[0m\n\u001b[1;32m      1\u001b[0m \u001b[0;31m# intenteemos comparar dos elementos\u001b[0m\u001b[0;34m\u001b[0m\u001b[0;34m\u001b[0m\u001b[0;34m\u001b[0m\u001b[0m\n\u001b[1;32m      2\u001b[0m \u001b[0;34m\u001b[0m\u001b[0m\n\u001b[0;32m----> 3\u001b[0;31m \u001b[0mgeof\u001b[0m \u001b[0;34m<\u001b[0m \u001b[0mdemis\u001b[0m\u001b[0;34m\u001b[0m\u001b[0;34m\u001b[0m\u001b[0m\n\u001b[0m",
      "\u001b[0;31mTypeError\u001b[0m: '<' not supported between instances of 'Human' and 'Human'"
     ]
    }
   ],
   "source": [
    "# intenteemos comparar dos elementos\n",
    "\n",
    "geof < demis"
   ]
  },
  {
   "cell_type": "code",
   "execution_count": 91,
   "metadata": {
    "id": "mWlQb3bLFhiA"
   },
   "outputs": [],
   "source": [
    "class Human:\n",
    "    def __init__(self, name, last_name, age, gender):\n",
    "        self.name = name\n",
    "        self.last_name = last_name\n",
    "        self.age = age\n",
    "        self.gender = gender\n",
    "    \n",
    "    def birthday(self):\n",
    "        self.age = self.age + 1\n",
    "    \n",
    "    # Cambiando la representación de la clase Human\n",
    "    def __repr__(self):\n",
    "        return f\"Human({self.last_name}, {self.name})\"\n",
    "    \n",
    "    # Definiendo que es la longitud de la clase Human\n",
    "    def __len__(self):\n",
    "        return self.age\n",
    "    \n",
    "    # Definiendo una relación de <\n",
    "    def __lt__(self, h2):\n",
    "        return self.age < h2.age\n",
    "    \n",
    "    \n",
    "    "
   ]
  },
  {
   "cell_type": "code",
   "execution_count": null,
   "metadata": {},
   "outputs": [],
   "source": [
    "class Human:\n",
    "    def __init__(self, name, last_name, age, gender):\n",
    "        self.name = name\n",
    "        self.last_name = last_name\n",
    "        self.age = age\n",
    "        self.gender = gender\n",
    "    \n",
    "    def birthday(self):\n",
    "        self.age = self.age + 1\n",
    "    \n",
    "    # Cambiando la representación de la clase Human\n",
    "    def __repr__(self):\n",
    "        return f\"Human({self.last_name}, {self.name})\"\n",
    "    \n",
    "    # Definiendo que es la longitud de la clase Human\n",
    "    def __len__(self):\n",
    "        return self.age\n",
    "    \n",
    "    # Definiendo una relación de <\n",
    "    def __gt__(self, h2):\n",
    "        return self.age > h2.age"
   ]
  },
  {
   "cell_type": "code",
   "execution_count": 92,
   "metadata": {
    "id": "MJsFmdQbFhiA"
   },
   "outputs": [],
   "source": [
    "geof = Human(\"geofrey\", \"perez\", 40, \"male\")"
   ]
  },
  {
   "cell_type": "code",
   "execution_count": 93,
   "metadata": {
    "id": "Wb-Jp_k_FhiA"
   },
   "outputs": [],
   "source": [
    "demis = Human(\"Demis\", \"Hassabis\", 42, \"male\")"
   ]
  },
  {
   "cell_type": "code",
   "execution_count": 94,
   "metadata": {
    "id": "NYXbCpeJFhiA"
   },
   "outputs": [
    {
     "data": {
      "text/plain": [
       "True"
      ]
     },
     "execution_count": 94,
     "metadata": {},
     "output_type": "execute_result"
    }
   ],
   "source": [
    "geof < demis"
   ]
  },
  {
   "cell_type": "code",
   "execution_count": 53,
   "metadata": {},
   "outputs": [
    {
     "data": {
      "text/plain": [
       "False"
      ]
     },
     "execution_count": 53,
     "metadata": {},
     "output_type": "execute_result"
    }
   ],
   "source": [
    "geof > demis"
   ]
  },
  {
   "cell_type": "code",
   "execution_count": 95,
   "metadata": {
    "id": "EowWPuSpFhiB"
   },
   "outputs": [
    {
     "data": {
      "text/plain": [
       "Human(perez, geofrey)"
      ]
     },
     "execution_count": 95,
     "metadata": {},
     "output_type": "execute_result"
    }
   ],
   "source": [
    "geof"
   ]
  },
  {
   "cell_type": "code",
   "execution_count": 96,
   "metadata": {
    "id": "rojJBDkFFhiB"
   },
   "outputs": [
    {
     "data": {
      "text/plain": [
       "40"
      ]
     },
     "execution_count": 96,
     "metadata": {},
     "output_type": "execute_result"
    }
   ],
   "source": [
    "len(geof)"
   ]
  },
  {
   "cell_type": "markdown",
   "metadata": {
    "id": "v8cVpD26FhiB"
   },
   "source": [
    "### Herencia\n",
    "En el paradigma OOP existe la propiedad de *heredar*, la cuál nos permite definir una nueva clase considerando los elementos de una clase anterior. Esta propiedad es útil en ocasiones en las cuáles necesitamos definir una case cuyas propiedades y/o métodos dependan de alguna otra clase previamente definida: \n",
    "\n",
    "Definir una herencia en python se logra de la siguiente manera:\n",
    "\n",
    "```python\n",
    "class NewClass(BaseClass):\n",
    "    ...\n",
    "```"
   ]
  },
  {
   "cell_type": "code",
   "execution_count": 97,
   "metadata": {
    "id": "PJkmA3ukFhiB"
   },
   "outputs": [],
   "source": [
    "class ClassA:\n",
    "    def method_a(self):\n",
    "        print(\"Provengo de la clase A\")\n",
    "\n",
    "class ClassB(ClassA): #va a tener todo lo que tienes en A más lo que definas en la B\n",
    "    def method_b(self): #TODO LO DE B  HEREDA LO DE A\n",
    "        print(\"Provengo de la clase B\")"
   ]
  },
  {
   "cell_type": "code",
   "execution_count": 98,
   "metadata": {
    "id": "V5kpJmMeFhiB"
   },
   "outputs": [
    {
     "name": "stdout",
     "output_type": "stream",
     "text": [
      "Provengo de la clase A\n"
     ]
    }
   ],
   "source": [
    "b = ClassB()\n",
    "b.method_a()"
   ]
  },
  {
   "cell_type": "code",
   "execution_count": 99,
   "metadata": {
    "id": "1yx4dtPxFhiB"
   },
   "outputs": [],
   "source": [
    "a = ClassA()"
   ]
  },
  {
   "cell_type": "code",
   "execution_count": 100,
   "metadata": {
    "id": "9L6698jdFhiB"
   },
   "outputs": [
    {
     "name": "stdout",
     "output_type": "stream",
     "text": [
      "Provengo de la clase A\n"
     ]
    }
   ],
   "source": [
    "a.method_a()"
   ]
  },
  {
   "cell_type": "code",
   "execution_count": 101,
   "metadata": {
    "id": "Lbz_sS86FhiC"
   },
   "outputs": [
    {
     "name": "stdout",
     "output_type": "stream",
     "text": [
      "Provengo de la clase A\n"
     ]
    }
   ],
   "source": [
    "# El objeto b hereda ambos metodos (los contenidos en Clase A y Clase B)\n",
    "b.method_a()"
   ]
  },
  {
   "cell_type": "code",
   "execution_count": 102,
   "metadata": {
    "id": "O4axtcKFVw1A"
   },
   "outputs": [
    {
     "name": "stdout",
     "output_type": "stream",
     "text": [
      "Provengo de la clase B\n"
     ]
    }
   ],
   "source": [
    "b.method_b()"
   ]
  },
  {
   "cell_type": "code",
   "execution_count": 103,
   "metadata": {
    "id": "FT7QJCw8FhiC"
   },
   "outputs": [
    {
     "ename": "AttributeError",
     "evalue": "'ClassA' object has no attribute 'method_b'",
     "output_type": "error",
     "traceback": [
      "\u001b[0;31m---------------------------------------------------------------------------\u001b[0m",
      "\u001b[0;31mAttributeError\u001b[0m                            Traceback (most recent call last)",
      "\u001b[0;32m<ipython-input-103-2ad4f38e0215>\u001b[0m in \u001b[0;36m<module>\u001b[0;34m\u001b[0m\n\u001b[1;32m      1\u001b[0m \u001b[0;31m# Pero el objeto a por como lo definimos solo tiene los metodos de la Clase A (de ahi el error)\u001b[0m\u001b[0;34m\u001b[0m\u001b[0;34m\u001b[0m\u001b[0;34m\u001b[0m\u001b[0m\n\u001b[0;32m----> 2\u001b[0;31m \u001b[0ma\u001b[0m\u001b[0;34m.\u001b[0m\u001b[0mmethod_b\u001b[0m\u001b[0;34m(\u001b[0m\u001b[0;34m)\u001b[0m\u001b[0;34m\u001b[0m\u001b[0;34m\u001b[0m\u001b[0m\n\u001b[0m",
      "\u001b[0;31mAttributeError\u001b[0m: 'ClassA' object has no attribute 'method_b'"
     ]
    }
   ],
   "source": [
    "# Pero el objeto a por como lo definimos solo tiene los metodos de la Clase A (de ahi el error)\n",
    "a.method_b()"
   ]
  },
  {
   "cell_type": "markdown",
   "metadata": {
    "id": "thbbZY9bFhiC"
   },
   "source": [
    "El método `super()`:\n",
    "\n",
    "Muy comúnmente, al tener una clase `B` que herede de otra clase `A`, `A` contará con parámetros dentro de su constructor que serán necesarios inicializar. Para inicializar una clase `A` dentro de una clase `B`, haremos uso de la función `super()` dentro de la definición del constructor de `B`."
   ]
  },
  {
   "cell_type": "code",
   "execution_count": 65,
   "metadata": {
    "id": "xhm8LWWzFhiC"
   },
   "outputs": [],
   "source": [
    "# Ya contamos con una clase Human ahora crearemos una clase heredada e inicalizaremos sus valores con la función super()\n",
    "class Student(Human):\n",
    "    # recordar que __init__ inicializa la clase. \n",
    "    def __init__(self, name, last_name, age, gender, major):\n",
    "        # Inicializamos los valores que provienen desde 'Human'\n",
    "        super().__init__(name, last_name, age, gender) # inicializamos el objeto\n",
    "        self.major = major"
   ]
  },
  {
   "cell_type": "code",
   "execution_count": 64,
   "metadata": {
    "id": "sfxnNAxtFhiC"
   },
   "outputs": [],
   "source": [
    "# Damos de alta al \"alumno\" leonardo\n",
    "leonardo = Student(\"Leonardo\", \"Arredondo\", 18, \"male\", \"actuary\")"
   ]
  },
  {
   "cell_type": "code",
   "execution_count": 66,
   "metadata": {
    "id": "tpqRr6SbFhiC"
   },
   "outputs": [
    {
     "data": {
      "text/plain": [
       "18"
      ]
     },
     "execution_count": 66,
     "metadata": {},
     "output_type": "execute_result"
    }
   ],
   "source": [
    "# podemos utilizar los métodos de Human\n",
    "leonardo.age"
   ]
  },
  {
   "cell_type": "code",
   "execution_count": 67,
   "metadata": {
    "id": "9Nv8amPWFhiD"
   },
   "outputs": [],
   "source": [
    "leonardo.birthday()"
   ]
  },
  {
   "cell_type": "code",
   "execution_count": 68,
   "metadata": {
    "id": "UN2oVQAVFhiD"
   },
   "outputs": [
    {
     "data": {
      "text/plain": [
       "19"
      ]
     },
     "execution_count": 68,
     "metadata": {},
     "output_type": "execute_result"
    }
   ],
   "source": [
    "leonardo.age"
   ]
  },
  {
   "cell_type": "code",
   "execution_count": 69,
   "metadata": {},
   "outputs": [
    {
     "data": {
      "text/plain": [
       "'actuary'"
      ]
     },
     "execution_count": 69,
     "metadata": {},
     "output_type": "execute_result"
    }
   ],
   "source": [
    "leonardo.major"
   ]
  },
  {
   "cell_type": "code",
   "execution_count": 70,
   "metadata": {},
   "outputs": [
    {
     "ename": "AttributeError",
     "evalue": "'Human' object has no attribute 'major'",
     "output_type": "error",
     "traceback": [
      "\u001b[0;31m---------------------------------------------------------------------------\u001b[0m",
      "\u001b[0;31mAttributeError\u001b[0m                            Traceback (most recent call last)",
      "\u001b[0;32m<ipython-input-70-a822096450e6>\u001b[0m in \u001b[0;36m<module>\u001b[0;34m\u001b[0m\n\u001b[0;32m----> 1\u001b[0;31m \u001b[0mgeof\u001b[0m\u001b[0;34m.\u001b[0m\u001b[0mmajor\u001b[0m\u001b[0;34m\u001b[0m\u001b[0;34m\u001b[0m\u001b[0m\n\u001b[0m",
      "\u001b[0;31mAttributeError\u001b[0m: 'Human' object has no attribute 'major'"
     ]
    }
   ],
   "source": [
    "geof.major"
   ]
  },
  {
   "cell_type": "code",
   "execution_count": null,
   "metadata": {},
   "outputs": [],
   "source": []
  }
 ],
 "metadata": {
  "colab": {
   "authorship_tag": "ABX9TyPni2Hx8n42VCIfgYouDPWa",
   "collapsed_sections": [],
   "provenance": []
  },
  "kernelspec": {
   "display_name": "Python 3",
   "language": "python",
   "name": "python3"
  },
  "language_info": {
   "codemirror_mode": {
    "name": "ipython",
    "version": 3
   },
   "file_extension": ".py",
   "mimetype": "text/x-python",
   "name": "python",
   "nbconvert_exporter": "python",
   "pygments_lexer": "ipython3",
   "version": "3.8.8"
  }
 },
 "nbformat": 4,
 "nbformat_minor": 1
}
