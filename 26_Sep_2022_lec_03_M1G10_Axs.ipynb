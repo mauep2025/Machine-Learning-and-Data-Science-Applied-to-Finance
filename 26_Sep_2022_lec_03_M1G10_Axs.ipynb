{
 "cells": [
  {
   "cell_type": "code",
   "execution_count": 1,
   "metadata": {},
   "outputs": [],
   "source": [
    "import pandas as pd\n",
    "import numpy as np"
   ]
  },
  {
   "cell_type": "code",
   "execution_count": 2,
   "metadata": {},
   "outputs": [
    {
     "data": {
      "text/plain": [
       "0         setosa\n",
       "1         setosa\n",
       "2         setosa\n",
       "3         setosa\n",
       "4         setosa\n",
       "         ...    \n",
       "145    virginica\n",
       "146    virginica\n",
       "147    virginica\n",
       "148    virginica\n",
       "149    virginica\n",
       "Name: species, Length: 150, dtype: object"
      ]
     },
     "execution_count": 2,
     "metadata": {},
     "output_type": "execute_result"
    }
   ],
   "source": [
    "#squeeze = True. --> convertir el df a una pandas Series\n",
    "iris = pd.read_csv(\"iris.csv\", usecols = [\"species\"], squeeze = True)\n",
    "iris"
   ]
  },
  {
   "cell_type": "code",
   "execution_count": 3,
   "metadata": {},
   "outputs": [
    {
     "data": {
      "text/plain": [
       "0        50.12\n",
       "1        54.10\n",
       "2        54.65\n",
       "3        52.38\n",
       "4        52.95\n",
       "         ...  \n",
       "3007    772.88\n",
       "3008    771.07\n",
       "3009    773.18\n",
       "3010    771.61\n",
       "3011    782.22\n",
       "Name: Stock Price, Length: 3012, dtype: float64"
      ]
     },
     "execution_count": 3,
     "metadata": {},
     "output_type": "execute_result"
    }
   ],
   "source": [
    "google = pd.read_csv(\"google_stock_price.csv\", usecols = [\"Stock Price\"], squeeze = True)\n",
    "google"
   ]
  },
  {
   "cell_type": "code",
   "execution_count": 22,
   "metadata": {
    "collapsed": true
   },
   "outputs": [
    {
     "data": {
      "text/plain": [
       "[782.22,\n",
       " 776.6,\n",
       " 773.18,\n",
       " 772.88,\n",
       " 771.61,\n",
       " 771.07,\n",
       " 771.0,\n",
       " 768.79,\n",
       " 767.04,\n",
       " 766.81,\n",
       " 766.61,\n",
       " 764.65,\n",
       " 763.25,\n",
       " 762.51,\n",
       " 762.38,\n",
       " 762.37,\n",
       " 759.14,\n",
       " 759.0,\n",
       " 758.88,\n",
       " 758.09,\n",
       " 756.6,\n",
       " 755.98,\n",
       " 753.93,\n",
       " 753.2,\n",
       " 752.67,\n",
       " 752.54,\n",
       " 752.0,\n",
       " 751.72,\n",
       " 751.61,\n",
       " 750.53,\n",
       " 750.31,\n",
       " 750.26,\n",
       " 750.0,\n",
       " 749.91,\n",
       " 749.46,\n",
       " 749.43,\n",
       " 748.4,\n",
       " 748.28,\n",
       " 748.15,\n",
       " 747.77,\n",
       " 747.77,\n",
       " 745.91,\n",
       " 745.69,\n",
       " 745.29,\n",
       " 744.95,\n",
       " 744.77,\n",
       " 743.62,\n",
       " 743.4,\n",
       " 743.09,\n",
       " 742.95,\n",
       " 742.74,\n",
       " 742.6,\n",
       " 742.58,\n",
       " 742.09,\n",
       " 741.84,\n",
       " 741.77,\n",
       " 741.19,\n",
       " 740.75,\n",
       " 740.28,\n",
       " 740.0,\n",
       " 739.77,\n",
       " 739.31,\n",
       " 739.15,\n",
       " 738.87,\n",
       " 738.63,\n",
       " 738.42,\n",
       " 738.41,\n",
       " 738.06,\n",
       " 737.8,\n",
       " 737.78,\n",
       " 737.6,\n",
       " 736.96,\n",
       " 736.1,\n",
       " 736.09,\n",
       " 735.72,\n",
       " 735.4,\n",
       " 735.3,\n",
       " 734.15,\n",
       " 733.78,\n",
       " 733.76,\n",
       " 733.53,\n",
       " 732.66,\n",
       " 731.25,\n",
       " 731.23,\n",
       " 730.96,\n",
       " 730.49,\n",
       " 730.4,\n",
       " 728.96,\n",
       " 728.58,\n",
       " 728.33,\n",
       " 728.32,\n",
       " 728.28,\n",
       " 728.11,\n",
       " 726.95,\n",
       " 726.82,\n",
       " 726.39,\n",
       " 726.07,\n",
       " 725.3,\n",
       " 725.27,\n",
       " 725.25,\n",
       " 724.89,\n",
       " 724.12,\n",
       " 723.18,\n",
       " 723.15,\n",
       " 722.34,\n",
       " 722.16,\n",
       " 721.11,\n",
       " 720.95,\n",
       " 720.64,\n",
       " 720.09,\n",
       " 719.85,\n",
       " 719.41,\n",
       " 718.92,\n",
       " 718.85,\n",
       " 718.81,\n",
       " 718.77,\n",
       " 718.36,\n",
       " 718.27,\n",
       " 717.0,\n",
       " 716.98,\n",
       " 716.92,\n",
       " 716.65,\n",
       " 716.55,\n",
       " 716.49,\n",
       " 716.03,\n",
       " 715.29,\n",
       " 715.09,\n",
       " 714.72,\n",
       " 714.47,\n",
       " 713.31,\n",
       " 713.04,\n",
       " 712.95,\n",
       " 712.9,\n",
       " 712.82,\n",
       " 712.78,\n",
       " 712.42,\n",
       " 711.67,\n",
       " 711.12,\n",
       " 710.89,\n",
       " 710.83,\n",
       " 710.81,\n",
       " 710.36,\n",
       " 709.74,\n",
       " 708.49,\n",
       " 708.4,\n",
       " 708.14,\n",
       " 708.01,\n",
       " 706.63,\n",
       " 706.59,\n",
       " 706.46,\n",
       " 706.23,\n",
       " 705.84,\n",
       " 705.75,\n",
       " 705.63,\n",
       " 705.24,\n",
       " 705.07,\n",
       " 704.24,\n",
       " 702.0,\n",
       " 701.87,\n",
       " 701.79,\n",
       " 701.43,\n",
       " 700.91,\n",
       " 700.56,\n",
       " 700.32,\n",
       " 699.99,\n",
       " 699.56,\n",
       " 699.21,\n",
       " 698.45,\n",
       " 698.21,\n",
       " 697.77,\n",
       " 697.77,\n",
       " 697.46,\n",
       " 697.35,\n",
       " 695.94,\n",
       " 695.85,\n",
       " 695.7,\n",
       " 695.36,\n",
       " 695.16,\n",
       " 694.49,\n",
       " 694.45,\n",
       " 693.97,\n",
       " 693.71,\n",
       " 693.01,\n",
       " 692.36,\n",
       " 692.1,\n",
       " 691.72,\n",
       " 691.02,\n",
       " 691.0,\n",
       " 684.12,\n",
       " 684.11,\n",
       " 683.57,\n",
       " 683.11,\n",
       " 682.74,\n",
       " 682.4,\n",
       " 680.04,\n",
       " 678.11,\n",
       " 675.22,\n",
       " 672.93,\n",
       " 668.26,\n",
       " 666.1,\n",
       " 663.02,\n",
       " 662.3,\n",
       " 662.2,\n",
       " 662.1,\n",
       " 661.74,\n",
       " 660.9,\n",
       " 660.87,\n",
       " 660.78,\n",
       " 659.56,\n",
       " 657.12,\n",
       " 656.45,\n",
       " 656.13,\n",
       " 652.3,\n",
       " 651.79,\n",
       " 651.16,\n",
       " 650.28,\n",
       " 646.83,\n",
       " 646.67,\n",
       " 645.44,\n",
       " 644.28,\n",
       " 643.78,\n",
       " 643.61,\n",
       " 642.9,\n",
       " 642.68,\n",
       " 642.61,\n",
       " 642.36,\n",
       " 641.47,\n",
       " 639.16,\n",
       " 637.61,\n",
       " 635.98,\n",
       " 635.44,\n",
       " 635.3,\n",
       " 635.14,\n",
       " 633.73,\n",
       " 632.59,\n",
       " 631.93,\n",
       " 631.21,\n",
       " 630.38,\n",
       " 629.25,\n",
       " 629.25,\n",
       " 628.62,\n",
       " 628.0,\n",
       " 627.26,\n",
       " 626.91,\n",
       " 625.8,\n",
       " 625.77,\n",
       " 625.61,\n",
       " 623.56,\n",
       " 623.24,\n",
       " 622.69,\n",
       " 622.36,\n",
       " 621.35,\n",
       " 618.25,\n",
       " 614.66,\n",
       " 614.34,\n",
       " 612.72,\n",
       " 612.48,\n",
       " 611.97,\n",
       " 611.29,\n",
       " 609.47,\n",
       " 609.39,\n",
       " 609.2,\n",
       " 609.0,\n",
       " 608.52,\n",
       " 608.42,\n",
       " 607.22,\n",
       " 606.85,\n",
       " 606.79,\n",
       " 606.25,\n",
       " 605.65,\n",
       " 605.18,\n",
       " 605.02,\n",
       " 604.83,\n",
       " 603.05,\n",
       " 601.45,\n",
       " 601.29,\n",
       " 600.8,\n",
       " 600.74,\n",
       " 600.7,\n",
       " 600.57,\n",
       " 599.4,\n",
       " 599.35,\n",
       " 599.03,\n",
       " 597.98,\n",
       " 597.79,\n",
       " 596.08,\n",
       " 595.98,\n",
       " 595.45,\n",
       " 595.08,\n",
       " 594.97,\n",
       " 594.89,\n",
       " 594.74,\n",
       " 594.49,\n",
       " 593.94,\n",
       " 593.35,\n",
       " 592.75,\n",
       " 590.93,\n",
       " 590.6,\n",
       " 589.89,\n",
       " 589.72,\n",
       " 589.61,\n",
       " 589.47,\n",
       " 589.27,\n",
       " 589.02,\n",
       " 588.13,\n",
       " 587.99,\n",
       " 587.42,\n",
       " 587.37,\n",
       " 586.86,\n",
       " 586.08,\n",
       " 585.88,\n",
       " 585.81,\n",
       " 585.61,\n",
       " 584.87,\n",
       " 584.78,\n",
       " 584.77,\n",
       " 584.73,\n",
       " 584.49,\n",
       " 583.37,\n",
       " 583.1,\n",
       " 582.67,\n",
       " 582.66,\n",
       " 582.56,\n",
       " 582.34,\n",
       " 582.25,\n",
       " 582.16,\n",
       " 582.06,\n",
       " 581.98,\n",
       " 581.93,\n",
       " 581.35,\n",
       " 581.27,\n",
       " 581.13,\n",
       " 581.01,\n",
       " 580.2,\n",
       " 579.95,\n",
       " 579.85,\n",
       " 579.47,\n",
       " 579.4,\n",
       " 579.18,\n",
       " 578.78,\n",
       " 578.65,\n",
       " 578.39,\n",
       " 577.94,\n",
       " 577.86,\n",
       " 577.53,\n",
       " 577.36,\n",
       " 577.35,\n",
       " 577.33,\n",
       " 577.24,\n",
       " 577.1,\n",
       " 576.36,\n",
       " 576.08,\n",
       " 576.0,\n",
       " 575.62,\n",
       " 575.33,\n",
       " 575.28,\n",
       " 575.28,\n",
       " 575.06,\n",
       " 574.78,\n",
       " 574.69,\n",
       " 574.65,\n",
       " 574.13,\n",
       " 573.74,\n",
       " 573.73,\n",
       " 573.64,\n",
       " 573.48,\n",
       " 573.37,\n",
       " 573.15,\n",
       " 573.1,\n",
       " 572.5,\n",
       " 571.6,\n",
       " 571.6,\n",
       " 571.34,\n",
       " 571.1,\n",
       " 571.09,\n",
       " 571.03,\n",
       " 571.0,\n",
       " 570.19,\n",
       " 570.08,\n",
       " 570.04,\n",
       " 569.74,\n",
       " 569.2,\n",
       " 568.86,\n",
       " 568.85,\n",
       " 568.77,\n",
       " 568.51,\n",
       " 568.27,\n",
       " 567.88,\n",
       " 567.68,\n",
       " 567.13,\n",
       " 566.98,\n",
       " 566.88,\n",
       " 566.37,\n",
       " 566.15,\n",
       " 566.07,\n",
       " 565.95,\n",
       " 565.42,\n",
       " 565.07,\n",
       " 565.06,\n",
       " 564.95,\n",
       " 564.62,\n",
       " 564.55,\n",
       " 564.52,\n",
       " 564.14,\n",
       " 563.74,\n",
       " 563.36,\n",
       " 562.73,\n",
       " 562.12,\n",
       " 561.68,\n",
       " 561.35,\n",
       " 561.1,\n",
       " 560.94,\n",
       " 560.93,\n",
       " 560.88,\n",
       " 560.55,\n",
       " 560.36,\n",
       " 560.22,\n",
       " 560.08,\n",
       " 559.89,\n",
       " 559.79,\n",
       " 559.51,\n",
       " 559.5,\n",
       " 559.08,\n",
       " 558.84,\n",
       " 558.81,\n",
       " 558.78,\n",
       " 558.64,\n",
       " 558.4,\n",
       " 558.17,\n",
       " 558.1,\n",
       " 557.99,\n",
       " 556.99,\n",
       " 556.7,\n",
       " 556.58,\n",
       " 556.54,\n",
       " 556.36,\n",
       " 556.33,\n",
       " 556.0,\n",
       " 555.51,\n",
       " 555.48,\n",
       " 555.37,\n",
       " 555.36,\n",
       " 555.22,\n",
       " 555.17,\n",
       " 555.01,\n",
       " 554.9,\n",
       " 554.9,\n",
       " 554.51,\n",
       " 554.18,\n",
       " 554.11,\n",
       " 553.93,\n",
       " 553.9,\n",
       " 553.68,\n",
       " 553.37,\n",
       " 552.91,\n",
       " 552.7,\n",
       " 552.03,\n",
       " 551.95,\n",
       " 551.76,\n",
       " 551.35,\n",
       " 551.18,\n",
       " 550.84,\n",
       " 550.31,\n",
       " 550.29,\n",
       " 550.06,\n",
       " 549.76,\n",
       " 549.33,\n",
       " 549.08,\n",
       " 549.01,\n",
       " 548.9,\n",
       " 548.34,\n",
       " 548.0,\n",
       " 547.49,\n",
       " 547.32,\n",
       " 547.31,\n",
       " 547.0,\n",
       " 546.55,\n",
       " 545.92,\n",
       " 545.38,\n",
       " 545.06,\n",
       " 544.94,\n",
       " 544.66,\n",
       " 544.49,\n",
       " 544.4,\n",
       " 544.28,\n",
       " 543.98,\n",
       " 543.87,\n",
       " 543.14,\n",
       " 543.01,\n",
       " 542.93,\n",
       " 542.87,\n",
       " 542.84,\n",
       " 542.57,\n",
       " 542.56,\n",
       " 542.51,\n",
       " 542.04,\n",
       " 541.83,\n",
       " 541.83,\n",
       " 541.79,\n",
       " 541.61,\n",
       " 541.08,\n",
       " 541.01,\n",
       " 540.95,\n",
       " 540.78,\n",
       " 540.78,\n",
       " 540.77,\n",
       " 540.48,\n",
       " 540.37,\n",
       " 540.31,\n",
       " 540.11,\n",
       " 540.01,\n",
       " 539.95,\n",
       " 539.79,\n",
       " 539.78,\n",
       " 539.78,\n",
       " 539.7,\n",
       " 539.36,\n",
       " 539.27,\n",
       " 539.27,\n",
       " 539.18,\n",
       " 539.17,\n",
       " 538.95,\n",
       " 538.94,\n",
       " 538.53,\n",
       " 538.4,\n",
       " 538.22,\n",
       " 538.19,\n",
       " 538.15,\n",
       " 538.11,\n",
       " 537.94,\n",
       " 537.9,\n",
       " 537.84,\n",
       " 537.5,\n",
       " 537.36,\n",
       " 537.34,\n",
       " 537.31,\n",
       " 537.02,\n",
       " 536.99,\n",
       " 536.94,\n",
       " 536.76,\n",
       " 536.73,\n",
       " 536.7,\n",
       " 536.69,\n",
       " 536.69,\n",
       " 536.51,\n",
       " 536.44,\n",
       " 536.1,\n",
       " 536.09,\n",
       " 535.97,\n",
       " 535.95,\n",
       " 535.7,\n",
       " 535.53,\n",
       " 535.38,\n",
       " 535.23,\n",
       " 535.21,\n",
       " 535.03,\n",
       " 534.83,\n",
       " 534.81,\n",
       " 534.61,\n",
       " 534.52,\n",
       " 534.45,\n",
       " 534.4,\n",
       " 534.4,\n",
       " 534.39,\n",
       " 534.03,\n",
       " 533.99,\n",
       " 533.97,\n",
       " 533.85,\n",
       " 533.8,\n",
       " 533.8,\n",
       " 533.75,\n",
       " 533.37,\n",
       " 533.33,\n",
       " 533.21,\n",
       " 533.09,\n",
       " 532.71,\n",
       " 532.53,\n",
       " 532.52,\n",
       " 532.33,\n",
       " 532.32,\n",
       " 532.3,\n",
       " 532.11,\n",
       " 531.91,\n",
       " 531.69,\n",
       " 531.35,\n",
       " 531.32,\n",
       " 531.02,\n",
       " 531.0,\n",
       " 530.8,\n",
       " 530.7,\n",
       " 530.6,\n",
       " 530.59,\n",
       " 530.42,\n",
       " 530.39,\n",
       " 530.33,\n",
       " 530.13,\n",
       " 530.03,\n",
       " 529.92,\n",
       " 529.86,\n",
       " 529.77,\n",
       " 529.62,\n",
       " 529.27,\n",
       " 529.26,\n",
       " 529.24,\n",
       " 529.04,\n",
       " 528.86,\n",
       " 528.77,\n",
       " 528.68,\n",
       " 528.62,\n",
       " 528.56,\n",
       " 528.48,\n",
       " 528.34,\n",
       " 528.15,\n",
       " 528.14,\n",
       " 527.93,\n",
       " 527.83,\n",
       " 527.81,\n",
       " 527.7,\n",
       " 527.58,\n",
       " 527.2,\n",
       " 526.98,\n",
       " 526.94,\n",
       " 526.83,\n",
       " 526.71,\n",
       " 526.69,\n",
       " 526.66,\n",
       " 526.65,\n",
       " 526.54,\n",
       " 526.4,\n",
       " 526.1,\n",
       " 526.06,\n",
       " 525.26,\n",
       " 525.16,\n",
       " 525.02,\n",
       " 524.87,\n",
       " 524.81,\n",
       " 524.51,\n",
       " 524.22,\n",
       " 524.05,\n",
       " 523.4,\n",
       " 522.86,\n",
       " 522.76,\n",
       " 522.44,\n",
       " 521.84,\n",
       " 521.52,\n",
       " 520.84,\n",
       " 520.68,\n",
       " 520.63,\n",
       " 520.51,\n",
       " 519.98,\n",
       " 518.73,\n",
       " 518.66,\n",
       " 518.63,\n",
       " 518.04,\n",
       " 517.6,\n",
       " 517.15,\n",
       " 517.1,\n",
       " 516.83,\n",
       " 516.52,\n",
       " 516.35,\n",
       " 516.26,\n",
       " 516.18,\n",
       " 515.72,\n",
       " 515.43,\n",
       " 515.26,\n",
       " 515.19,\n",
       " 515.14,\n",
       " 514.77,\n",
       " 514.69,\n",
       " 513.87,\n",
       " 513.8,\n",
       " 513.01,\n",
       " 512.54,\n",
       " 512.26,\n",
       " 512.09,\n",
       " 511.17,\n",
       " 511.1,\n",
       " 511.0,\n",
       " 510.86,\n",
       " 510.66,\n",
       " 510.64,\n",
       " 510.25,\n",
       " 510.0,\n",
       " 509.96,\n",
       " 508.08,\n",
       " 507.51,\n",
       " 507.09,\n",
       " 506.99,\n",
       " 506.9,\n",
       " 505.38,\n",
       " 505.2,\n",
       " 504.89,\n",
       " 504.79,\n",
       " 503.47,\n",
       " 503.0,\n",
       " 502.68,\n",
       " 501.96,\n",
       " 501.79,\n",
       " 501.15,\n",
       " 501.1,\n",
       " 500.87,\n",
       " 496.18,\n",
       " 496.17,\n",
       " 495.39,\n",
       " 492.55,\n",
       " 461.88,\n",
       " 461.04,\n",
       " 459.66,\n",
       " 459.34,\n",
       " 458.82,\n",
       " 457.49,\n",
       " 454.89,\n",
       " 454.88,\n",
       " 454.14,\n",
       " 453.81,\n",
       " 453.03,\n",
       " 452.83,\n",
       " 452.54,\n",
       " 452.17,\n",
       " 452.09,\n",
       " 452.05,\n",
       " 451.66,\n",
       " 451.48,\n",
       " 451.45,\n",
       " 451.21,\n",
       " 451.1,\n",
       " 451.0,\n",
       " 449.89,\n",
       " 449.86,\n",
       " 448.75,\n",
       " 448.56,\n",
       " 447.85,\n",
       " 447.84,\n",
       " 447.65,\n",
       " 446.3,\n",
       " 446.08,\n",
       " 445.88,\n",
       " 445.01,\n",
       " 444.88,\n",
       " 444.76,\n",
       " 444.66,\n",
       " 444.27,\n",
       " 444.09,\n",
       " 443.95,\n",
       " 443.89,\n",
       " 443.58,\n",
       " 443.55,\n",
       " 443.5,\n",
       " 443.44,\n",
       " 443.43,\n",
       " 443.41,\n",
       " 443.11,\n",
       " 443.06,\n",
       " 442.98,\n",
       " 442.81,\n",
       " 442.77,\n",
       " 442.68,\n",
       " 442.61,\n",
       " 442.31,\n",
       " 442.23,\n",
       " 441.93,\n",
       " 440.95,\n",
       " 440.71,\n",
       " 440.69,\n",
       " 440.56,\n",
       " 440.19,\n",
       " 440.18,\n",
       " 440.02,\n",
       " 439.74,\n",
       " 439.67,\n",
       " 439.47,\n",
       " 439.43,\n",
       " 439.35,\n",
       " 439.34,\n",
       " 438.65,\n",
       " 438.33,\n",
       " 438.18,\n",
       " 438.1,\n",
       " 438.06,\n",
       " 437.76,\n",
       " 437.62,\n",
       " 437.61,\n",
       " 437.52,\n",
       " 437.08,\n",
       " 436.42,\n",
       " 436.39,\n",
       " 436.38,\n",
       " 436.22,\n",
       " 435.74,\n",
       " 435.56,\n",
       " 435.55,\n",
       " 435.38,\n",
       " 435.3,\n",
       " 435.17,\n",
       " 434.94,\n",
       " 434.67,\n",
       " 434.47,\n",
       " 434.46,\n",
       " 434.23,\n",
       " 433.72,\n",
       " 433.69,\n",
       " 433.38,\n",
       " 432.76,\n",
       " 432.67,\n",
       " 432.44,\n",
       " 432.39,\n",
       " 432.28,\n",
       " 431.89,\n",
       " 430.34,\n",
       " 429.76,\n",
       " 429.42,\n",
       " 429.4,\n",
       " 429.12,\n",
       " 428.19,\n",
       " 428.03,\n",
       " 427.5,\n",
       " 427.29,\n",
       " 426.41,\n",
       " 424.65,\n",
       " 423.85,\n",
       " 423.03,\n",
       " 422.44,\n",
       " 418.88,\n",
       " 416.99,\n",
       " 415.88,\n",
       " 415.34,\n",
       " 415.27,\n",
       " 414.39,\n",
       " 413.39,\n",
       " 412.24,\n",
       " 411.87,\n",
       " 410.36,\n",
       " 410.34,\n",
       " 409.8,\n",
       " 409.12,\n",
       " 406.95,\n",
       " 406.74,\n",
       " 406.32,\n",
       " 406.11,\n",
       " 405.8,\n",
       " 405.25,\n",
       " 405.22,\n",
       " 404.75,\n",
       " 404.42,\n",
       " 404.15,\n",
       " 403.55,\n",
       " 403.49,\n",
       " 403.02,\n",
       " 402.7,\n",
       " 402.69,\n",
       " 400.93,\n",
       " 400.31,\n",
       " 400.2,\n",
       " 400.19,\n",
       " 399.66,\n",
       " 399.54,\n",
       " 399.49,\n",
       " 399.46,\n",
       " 397.37,\n",
       " 397.14,\n",
       " 396.7,\n",
       " 396.29,\n",
       " 396.05,\n",
       " 395.83,\n",
       " 394.99,\n",
       " 394.8,\n",
       " 394.69,\n",
       " 394.67,\n",
       " 394.63,\n",
       " 393.52,\n",
       " 392.29,\n",
       " 391.13,\n",
       " 391.04,\n",
       " 390.89,\n",
       " 390.82,\n",
       " 390.57,\n",
       " 389.96,\n",
       " 388.44,\n",
       " 387.4,\n",
       " 387.04,\n",
       " 386.59,\n",
       " 384.7,\n",
       " 383.64,\n",
       " 383.44,\n",
       " 382.57,\n",
       " 382.49,\n",
       " 380.87,\n",
       " 380.51,\n",
       " 379.13,\n",
       " 378.54,\n",
       " 378.12,\n",
       " 377.87,\n",
       " 377.47,\n",
       " 377.37,\n",
       " 376.87,\n",
       " 376.54,\n",
       " 376.54,\n",
       " 376.46,\n",
       " 376.46,\n",
       " 376.35,\n",
       " 375.36,\n",
       " 374.99,\n",
       " 374.32,\n",
       " 374.21,\n",
       " 372.0,\n",
       " 371.98,\n",
       " 371.91,\n",
       " 371.67,\n",
       " 370.52,\n",
       " 370.38,\n",
       " 370.37,\n",
       " 370.12,\n",
       " 369.62,\n",
       " 368.69,\n",
       " 368.62,\n",
       " 367.01,\n",
       " 366.63,\n",
       " 366.28,\n",
       " 366.1,\n",
       " 363.69,\n",
       " 363.39,\n",
       " 362.46,\n",
       " 362.1,\n",
       " 361.47,\n",
       " 361.26,\n",
       " 361.26,\n",
       " 360.82,\n",
       " 360.17,\n",
       " 360.03,\n",
       " 359.69,\n",
       " 358.85,\n",
       " 358.78,\n",
       " 357.46,\n",
       " 357.27,\n",
       " 357.24,\n",
       " 357.08,\n",
       " 355.3,\n",
       " 355.27,\n",
       " 355.06,\n",
       " 354.64,\n",
       " 354.49,\n",
       " 354.4,\n",
       " 354.08,\n",
       " 353.34,\n",
       " 353.15,\n",
       " 352.79,\n",
       " 352.72,\n",
       " 352.67,\n",
       " 351.9,\n",
       " 351.25,\n",
       " 351.08,\n",
       " 351.0,\n",
       " 350.91,\n",
       " 350.63,\n",
       " 350.03,\n",
       " 350.02,\n",
       " 350.01,\n",
       " 349.65,\n",
       " 349.35,\n",
       " 349.33,\n",
       " 349.25,\n",
       " 348.91,\n",
       " 348.84,\n",
       " 348.43,\n",
       " 348.15,\n",
       " 348.09,\n",
       " 348.0,\n",
       " 347.28,\n",
       " 347.15,\n",
       " 347.04,\n",
       " 346.68,\n",
       " 346.57,\n",
       " 346.15,\n",
       " 345.78,\n",
       " 345.75,\n",
       " 345.6,\n",
       " 345.39,\n",
       " 345.22,\n",
       " 345.17,\n",
       " 345.1,\n",
       " 344.64,\n",
       " 344.5,\n",
       " 343.66,\n",
       " 343.62,\n",
       " 343.57,\n",
       " 343.45,\n",
       " 342.37,\n",
       " 342.32,\n",
       " 342.25,\n",
       " 342.2,\n",
       " 341.76,\n",
       " 341.74,\n",
       " 341.49,\n",
       " 341.14,\n",
       " 340.55,\n",
       " 340.52,\n",
       " 340.5,\n",
       " 340.42,\n",
       " 340.18,\n",
       " 340.02,\n",
       " ...]"
      ]
     },
     "execution_count": 22,
     "metadata": {},
     "output_type": "execute_result"
    }
   ],
   "source": [
    "sorted(google,reverse = True) #nos regresa una lista, NO UNA SERIE"
   ]
  },
  {
   "cell_type": "code",
   "execution_count": 21,
   "metadata": {},
   "outputs": [
    {
     "ename": "AttributeError",
     "evalue": "'list' object has no attribute 'head'",
     "output_type": "error",
     "traceback": [
      "\u001b[0;31m---------------------------------------------------------------------------\u001b[0m",
      "\u001b[0;31mAttributeError\u001b[0m                            Traceback (most recent call last)",
      "\u001b[0;32m<ipython-input-21-37e3c1aed0b0>\u001b[0m in \u001b[0;36m<module>\u001b[0;34m\u001b[0m\n\u001b[0;32m----> 1\u001b[0;31m \u001b[0msorted\u001b[0m\u001b[0;34m(\u001b[0m\u001b[0mgoogle\u001b[0m\u001b[0;34m)\u001b[0m\u001b[0;34m.\u001b[0m\u001b[0mhead\u001b[0m\u001b[0;34m(\u001b[0m\u001b[0;34m)\u001b[0m\u001b[0;34m\u001b[0m\u001b[0;34m\u001b[0m\u001b[0m\n\u001b[0m",
      "\u001b[0;31mAttributeError\u001b[0m: 'list' object has no attribute 'head'"
     ]
    }
   ],
   "source": [
    "sorted(google)"
   ]
  },
  {
   "cell_type": "code",
   "execution_count": 6,
   "metadata": {},
   "outputs": [
    {
     "data": {
      "text/plain": [
       "3012"
      ]
     },
     "execution_count": 6,
     "metadata": {},
     "output_type": "execute_result"
    }
   ],
   "source": [
    "google.count() #cuenta los valores NO NULOS"
   ]
  },
  {
   "cell_type": "code",
   "execution_count": 7,
   "metadata": {},
   "outputs": [
    {
     "data": {
      "text/plain": [
       "3012"
      ]
     },
     "execution_count": 7,
     "metadata": {},
     "output_type": "execute_result"
    }
   ],
   "source": [
    "google.size # size cuenta INCLUSO LOS NULOS. "
   ]
  },
  {
   "cell_type": "code",
   "execution_count": 23,
   "metadata": {},
   "outputs": [],
   "source": [
    "lista = [1, np.nan,3, 4]"
   ]
  },
  {
   "cell_type": "code",
   "execution_count": 24,
   "metadata": {},
   "outputs": [
    {
     "data": {
      "text/plain": [
       "[1, nan, 3, 4]"
      ]
     },
     "execution_count": 24,
     "metadata": {},
     "output_type": "execute_result"
    }
   ],
   "source": [
    "lista"
   ]
  },
  {
   "cell_type": "code",
   "execution_count": 10,
   "metadata": {},
   "outputs": [
    {
     "data": {
      "text/plain": [
       "0    1.0\n",
       "1    NaN\n",
       "2    3.0\n",
       "3    4.0\n",
       "dtype: float64"
      ]
     },
     "execution_count": 10,
     "metadata": {},
     "output_type": "execute_result"
    }
   ],
   "source": [
    "sl = pd.Series(lista)\n",
    "sl"
   ]
  },
  {
   "cell_type": "code",
   "execution_count": 11,
   "metadata": {},
   "outputs": [
    {
     "data": {
      "text/plain": [
       "3"
      ]
     },
     "execution_count": 11,
     "metadata": {},
     "output_type": "execute_result"
    }
   ],
   "source": [
    "sl.count()"
   ]
  },
  {
   "cell_type": "code",
   "execution_count": 13,
   "metadata": {},
   "outputs": [
    {
     "data": {
      "text/plain": [
       "3"
      ]
     },
     "execution_count": 13,
     "metadata": {},
     "output_type": "execute_result"
    }
   ],
   "source": [
    "sl.value_counts().sum()"
   ]
  },
  {
   "cell_type": "markdown",
   "metadata": {},
   "source": [
    "### Método sort_values()"
   ]
  },
  {
   "cell_type": "code",
   "execution_count": 16,
   "metadata": {},
   "outputs": [
    {
     "data": {
      "text/plain": [
       "3011    782.22\n",
       "2859    776.60\n",
       "3009    773.18\n",
       "3007    772.88\n",
       "3010    771.61\n",
       "Name: Stock Price, dtype: float64"
      ]
     },
     "execution_count": 16,
     "metadata": {},
     "output_type": "execute_result"
    }
   ],
   "source": [
    "google.sort_values(ascending = False).head()"
   ]
  },
  {
   "cell_type": "code",
   "execution_count": 17,
   "metadata": {},
   "outputs": [
    {
     "data": {
      "text/plain": [
       "0        50.12\n",
       "1        54.10\n",
       "2        54.65\n",
       "3        52.38\n",
       "4        52.95\n",
       "         ...  \n",
       "3007    772.88\n",
       "3008    771.07\n",
       "3009    773.18\n",
       "3010    771.61\n",
       "3011    782.22\n",
       "Name: Stock Price, Length: 3012, dtype: float64"
      ]
     },
     "execution_count": 17,
     "metadata": {},
     "output_type": "execute_result"
    }
   ],
   "source": [
    "google"
   ]
  },
  {
   "cell_type": "code",
   "execution_count": 18,
   "metadata": {},
   "outputs": [],
   "source": [
    "google.sort_values(ascending = False, inplace = True)"
   ]
  },
  {
   "cell_type": "code",
   "execution_count": 19,
   "metadata": {},
   "outputs": [
    {
     "data": {
      "text/plain": [
       "3011    782.22\n",
       "2859    776.60\n",
       "3009    773.18\n",
       "3007    772.88\n",
       "3010    771.61\n",
       "Name: Stock Price, dtype: float64"
      ]
     },
     "execution_count": 19,
     "metadata": {},
     "output_type": "execute_result"
    }
   ],
   "source": [
    "google.head()"
   ]
  },
  {
   "cell_type": "code",
   "execution_count": 27,
   "metadata": {},
   "outputs": [
    {
     "data": {
      "text/plain": [
       "4     setosa\n",
       "7     setosa\n",
       "11    setosa\n",
       "Name: species, dtype: object"
      ]
     },
     "execution_count": 27,
     "metadata": {},
     "output_type": "execute_result"
    }
   ],
   "source": [
    "iris[[4,7,11]]"
   ]
  },
  {
   "cell_type": "code",
   "execution_count": 29,
   "metadata": {},
   "outputs": [
    {
     "data": {
      "text/plain": [
       "'virginica'"
      ]
     },
     "execution_count": 29,
     "metadata": {},
     "output_type": "execute_result"
    }
   ],
   "source": [
    "list(iris)[-1]"
   ]
  },
  {
   "cell_type": "code",
   "execution_count": 30,
   "metadata": {},
   "outputs": [],
   "source": [
    "## Extraer valores mediante las ETIQUETAS DEL ÍNDICE\n",
    "## iris_id"
   ]
  },
  {
   "cell_type": "code",
   "execution_count": 37,
   "metadata": {},
   "outputs": [],
   "source": [
    "iris_id = pd.read_csv(\"iris_id.csv\", usecols = [\"id\",\"species\"],index_col = \"id\", squeeze = True)"
   ]
  },
  {
   "cell_type": "code",
   "execution_count": 38,
   "metadata": {},
   "outputs": [
    {
     "data": {
      "text/plain": [
       "id\n",
       "A1    setosa\n",
       "A2    setosa\n",
       "A3    setosa\n",
       "A4    setosa\n",
       "A5    setosa\n",
       "Name: species, dtype: object"
      ]
     },
     "execution_count": 38,
     "metadata": {},
     "output_type": "execute_result"
    }
   ],
   "source": [
    "iris_id.head()"
   ]
  },
  {
   "cell_type": "code",
   "execution_count": 39,
   "metadata": {},
   "outputs": [
    {
     "data": {
      "text/plain": [
       "Index(['A1', 'A2', 'A3', 'A4', 'A5', 'A6', 'A7', 'A8', 'A9', 'A10',\n",
       "       ...\n",
       "       'A141', 'A142', 'A143', 'A144', 'A145', 'A146', 'A147', 'A148', 'A149',\n",
       "       'A150'],\n",
       "      dtype='object', name='id', length=150)"
      ]
     },
     "execution_count": 39,
     "metadata": {},
     "output_type": "execute_result"
    }
   ],
   "source": [
    "iris_id.index"
   ]
  },
  {
   "cell_type": "code",
   "execution_count": 40,
   "metadata": {},
   "outputs": [
    {
     "data": {
      "text/plain": [
       "'setosa'"
      ]
     },
     "execution_count": 40,
     "metadata": {},
     "output_type": "execute_result"
    }
   ],
   "source": [
    "#EXTRAYENDO mediante las etiquetas del índice\n",
    "iris_id[\"A15\"]"
   ]
  },
  {
   "cell_type": "code",
   "execution_count": 44,
   "metadata": {
    "collapsed": true
   },
   "outputs": [
    {
     "data": {
      "text/plain": [
       "id\n",
       "A1     setosa\n",
       "A2     setosa\n",
       "A3     setosa\n",
       "A4     setosa\n",
       "A5     setosa\n",
       "A6     setosa\n",
       "A7     setosa\n",
       "A8     setosa\n",
       "A9     setosa\n",
       "A10    setosa\n",
       "A11    setosa\n",
       "A12    setosa\n",
       "A13    setosa\n",
       "A14    setosa\n",
       "A15    setosa\n",
       "A16    setosa\n",
       "A17    setosa\n",
       "A18    setosa\n",
       "A19    setosa\n",
       "A20    setosa\n",
       "Name: species, dtype: object"
      ]
     },
     "execution_count": 44,
     "metadata": {},
     "output_type": "execute_result"
    }
   ],
   "source": [
    "#También podemos usar la sintaxis:\n",
    "iris_id[\"A1\":\"A20\"]\n",
    "#cuando usamos etiquetas del índice, el límite superior sí está incluído.\n"
   ]
  },
  {
   "cell_type": "code",
   "execution_count": 43,
   "metadata": {},
   "outputs": [
    {
     "data": {
      "text/plain": [
       "id\n",
       "A1     setosa\n",
       "A3     setosa\n",
       "A5     setosa\n",
       "A7     setosa\n",
       "A9     setosa\n",
       "A11    setosa\n",
       "A13    setosa\n",
       "A15    setosa\n",
       "A17    setosa\n",
       "A19    setosa\n",
       "Name: species, dtype: object"
      ]
     },
     "execution_count": 43,
     "metadata": {},
     "output_type": "execute_result"
    }
   ],
   "source": [
    "iris_id[\"A1\":\"A20\":2]"
   ]
  },
  {
   "cell_type": "markdown",
   "metadata": {},
   "source": [
    "## método .get( ) sobre una Serie"
   ]
  },
  {
   "cell_type": "code",
   "execution_count": 45,
   "metadata": {},
   "outputs": [
    {
     "data": {
      "text/plain": [
       "'setosa'"
      ]
     },
     "execution_count": 45,
     "metadata": {},
     "output_type": "execute_result"
    }
   ],
   "source": [
    "iris_id.get(0)"
   ]
  },
  {
   "cell_type": "code",
   "execution_count": 47,
   "metadata": {},
   "outputs": [
    {
     "data": {
      "text/plain": [
       "'setosa'"
      ]
     },
     "execution_count": 47,
     "metadata": {},
     "output_type": "execute_result"
    }
   ],
   "source": [
    "iris_id.get(\"A20\") #EQUIVALENTE A iris_id[\"A20\"]"
   ]
  },
  {
   "cell_type": "code",
   "execution_count": 48,
   "metadata": {},
   "outputs": [
    {
     "data": {
      "text/plain": [
       "id\n",
       "A2     setosa\n",
       "A6     setosa\n",
       "A21    setosa\n",
       "Name: species, dtype: object"
      ]
     },
     "execution_count": 48,
     "metadata": {},
     "output_type": "execute_result"
    }
   ],
   "source": [
    "iris_id.get([\"A2\",\"A6\",\"A21\"])"
   ]
  },
  {
   "cell_type": "code",
   "execution_count": 49,
   "metadata": {},
   "outputs": [
    {
     "data": {
      "text/plain": [
       "id\n",
       "A2     setosa\n",
       "A6     setosa\n",
       "A21    setosa\n",
       "Name: species, dtype: object"
      ]
     },
     "execution_count": 49,
     "metadata": {},
     "output_type": "execute_result"
    }
   ],
   "source": [
    "iris_id[[\"A2\",\"A6\",\"A21\"]]"
   ]
  },
  {
   "cell_type": "code",
   "execution_count": null,
   "metadata": {},
   "outputs": [],
   "source": [
    "#IMPORTANTE: si alguna llave/índice no lo encuentra, get() NO REGRESA NADA\n",
    "#pARA ello podemos cambiar la condición default dentro del método:"
   ]
  },
  {
   "cell_type": "code",
   "execution_count": 50,
   "metadata": {},
   "outputs": [
    {
     "data": {
      "text/plain": [
       "id\n",
       "A148    virginica\n",
       "A149    virginica\n",
       "A150    virginica\n",
       "Name: species, dtype: object"
      ]
     },
     "execution_count": 50,
     "metadata": {},
     "output_type": "execute_result"
    }
   ],
   "source": [
    "iris_id.tail(3)"
   ]
  },
  {
   "cell_type": "code",
   "execution_count": 52,
   "metadata": {},
   "outputs": [
    {
     "data": {
      "text/plain": [
       "id\n",
       "A2     setosa\n",
       "A6     setosa\n",
       "A21    setosa\n",
       "Name: species, dtype: object"
      ]
     },
     "execution_count": 52,
     "metadata": {},
     "output_type": "execute_result"
    }
   ],
   "source": [
    "iris_id.get([\"A2\",\"A6\",\"A21\"], default= \"este id no existe\" )"
   ]
  },
  {
   "cell_type": "code",
   "execution_count": 53,
   "metadata": {},
   "outputs": [
    {
     "data": {
      "text/plain": [
       "'este id no existe'"
      ]
     },
     "execution_count": 53,
     "metadata": {},
     "output_type": "execute_result"
    }
   ],
   "source": [
    "iris_id.get([\"A2\",\"A6\",\"A1121\"], default= \"este id no existe\" )"
   ]
  },
  {
   "cell_type": "code",
   "execution_count": 54,
   "metadata": {},
   "outputs": [
    {
     "data": {
      "text/plain": [
       "334.31009296148767"
      ]
     },
     "execution_count": 54,
     "metadata": {},
     "output_type": "execute_result"
    }
   ],
   "source": [
    "google.mean()"
   ]
  },
  {
   "cell_type": "code",
   "execution_count": 55,
   "metadata": {},
   "outputs": [
    {
     "data": {
      "text/plain": [
       "334.31009296148744"
      ]
     },
     "execution_count": 55,
     "metadata": {},
     "output_type": "execute_result"
    }
   ],
   "source": [
    "google.sum()/google.count()"
   ]
  },
  {
   "cell_type": "code",
   "execution_count": 56,
   "metadata": {},
   "outputs": [
    {
     "data": {
      "text/plain": [
       "0    291.21\n",
       "dtype: float64"
      ]
     },
     "execution_count": 56,
     "metadata": {},
     "output_type": "execute_result"
    }
   ],
   "source": [
    "google.mode()"
   ]
  },
  {
   "cell_type": "code",
   "execution_count": 57,
   "metadata": {},
   "outputs": [
    {
     "data": {
      "text/plain": [
       "count    3012.000000\n",
       "mean      334.310093\n",
       "std       173.187205\n",
       "min        49.950000\n",
       "25%       218.045000\n",
       "50%       283.315000\n",
       "75%       443.000000\n",
       "max       782.220000\n",
       "Name: Stock Price, dtype: float64"
      ]
     },
     "execution_count": 57,
     "metadata": {},
     "output_type": "execute_result"
    }
   ],
   "source": [
    "google.describe()"
   ]
  },
  {
   "cell_type": "code",
   "execution_count": 59,
   "metadata": {},
   "outputs": [
    {
     "data": {
      "text/plain": [
       "3011"
      ]
     },
     "execution_count": 59,
     "metadata": {},
     "output_type": "execute_result"
    }
   ],
   "source": [
    "# para ubicar la posición del valor máximo\n",
    "google.idxmax()"
   ]
  },
  {
   "cell_type": "code",
   "execution_count": 60,
   "metadata": {},
   "outputs": [
    {
     "data": {
      "text/plain": [
       "True"
      ]
     },
     "execution_count": 60,
     "metadata": {},
     "output_type": "execute_result"
    }
   ],
   "source": [
    "google[3011] == google.max()"
   ]
  },
  {
   "cell_type": "code",
   "execution_count": 61,
   "metadata": {},
   "outputs": [
    {
     "data": {
      "text/plain": [
       "49.95"
      ]
     },
     "execution_count": 61,
     "metadata": {},
     "output_type": "execute_result"
    }
   ],
   "source": [
    "google.min()"
   ]
  },
  {
   "cell_type": "code",
   "execution_count": 62,
   "metadata": {},
   "outputs": [
    {
     "data": {
      "text/plain": [
       "11"
      ]
     },
     "execution_count": 62,
     "metadata": {},
     "output_type": "execute_result"
    }
   ],
   "source": [
    "# para ubicar el índice donde está valor mínimo.\n",
    "google.idxmin()"
   ]
  },
  {
   "cell_type": "code",
   "execution_count": 63,
   "metadata": {},
   "outputs": [
    {
     "data": {
      "text/plain": [
       "49.95"
      ]
     },
     "execution_count": 63,
     "metadata": {},
     "output_type": "execute_result"
    }
   ],
   "source": [
    "google[11]"
   ]
  },
  {
   "cell_type": "code",
   "execution_count": 66,
   "metadata": {},
   "outputs": [
    {
     "data": {
      "text/plain": [
       "virginica     33.333333\n",
       "versicolor    33.333333\n",
       "setosa        33.333333\n",
       "Name: species, dtype: float64"
      ]
     },
     "execution_count": 66,
     "metadata": {},
     "output_type": "execute_result"
    }
   ],
   "source": [
    "iris.value_counts(normalize = True)*100"
   ]
  },
  {
   "cell_type": "code",
   "execution_count": 67,
   "metadata": {},
   "outputs": [
    {
     "data": {
      "text/plain": [
       "virginica     33.333333\n",
       "versicolor    33.333333\n",
       "setosa        33.333333\n",
       "Name: species, dtype: float64"
      ]
     },
     "execution_count": 67,
     "metadata": {},
     "output_type": "execute_result"
    }
   ],
   "source": [
    "iris.value_counts()/iris.count()*100"
   ]
  },
  {
   "cell_type": "markdown",
   "metadata": {},
   "source": [
    "## Método apply( )"
   ]
  },
  {
   "cell_type": "code",
   "execution_count": 68,
   "metadata": {
    "collapsed": true
   },
   "outputs": [
    {
     "data": {
      "text/html": [
       "<div>\n",
       "<style scoped>\n",
       "    .dataframe tbody tr th:only-of-type {\n",
       "        vertical-align: middle;\n",
       "    }\n",
       "\n",
       "    .dataframe tbody tr th {\n",
       "        vertical-align: top;\n",
       "    }\n",
       "\n",
       "    .dataframe thead th {\n",
       "        text-align: right;\n",
       "    }\n",
       "</style>\n",
       "<table border=\"1\" class=\"dataframe\">\n",
       "  <thead>\n",
       "    <tr style=\"text-align: right;\">\n",
       "      <th></th>\n",
       "      <th>id</th>\n",
       "      <th>CRIM</th>\n",
       "      <th>ZN</th>\n",
       "      <th>INDUS</th>\n",
       "      <th>CHAS</th>\n",
       "      <th>NOX</th>\n",
       "      <th>RM</th>\n",
       "      <th>AGE</th>\n",
       "      <th>DIS</th>\n",
       "      <th>RAD</th>\n",
       "      <th>TAX</th>\n",
       "      <th>PTRATIO</th>\n",
       "      <th>B</th>\n",
       "      <th>LSTAT</th>\n",
       "      <th>MEDV</th>\n",
       "    </tr>\n",
       "  </thead>\n",
       "  <tbody>\n",
       "    <tr>\n",
       "      <th>0</th>\n",
       "      <td>A1</td>\n",
       "      <td>0.00632</td>\n",
       "      <td>18.0</td>\n",
       "      <td>2.31</td>\n",
       "      <td>0</td>\n",
       "      <td>0.538</td>\n",
       "      <td>6.575</td>\n",
       "      <td>65.2</td>\n",
       "      <td>4.0900</td>\n",
       "      <td>1</td>\n",
       "      <td>296</td>\n",
       "      <td>15.3</td>\n",
       "      <td>396.90</td>\n",
       "      <td>4.98</td>\n",
       "      <td>24.0</td>\n",
       "    </tr>\n",
       "    <tr>\n",
       "      <th>1</th>\n",
       "      <td>A2</td>\n",
       "      <td>0.02731</td>\n",
       "      <td>0.0</td>\n",
       "      <td>7.07</td>\n",
       "      <td>0</td>\n",
       "      <td>0.469</td>\n",
       "      <td>6.421</td>\n",
       "      <td>78.9</td>\n",
       "      <td>4.9671</td>\n",
       "      <td>2</td>\n",
       "      <td>242</td>\n",
       "      <td>17.8</td>\n",
       "      <td>396.90</td>\n",
       "      <td>9.14</td>\n",
       "      <td>21.6</td>\n",
       "    </tr>\n",
       "    <tr>\n",
       "      <th>2</th>\n",
       "      <td>A3</td>\n",
       "      <td>0.02729</td>\n",
       "      <td>0.0</td>\n",
       "      <td>7.07</td>\n",
       "      <td>0</td>\n",
       "      <td>0.469</td>\n",
       "      <td>7.185</td>\n",
       "      <td>61.1</td>\n",
       "      <td>4.9671</td>\n",
       "      <td>2</td>\n",
       "      <td>242</td>\n",
       "      <td>17.8</td>\n",
       "      <td>392.83</td>\n",
       "      <td>4.03</td>\n",
       "      <td>34.7</td>\n",
       "    </tr>\n",
       "    <tr>\n",
       "      <th>3</th>\n",
       "      <td>A4</td>\n",
       "      <td>0.03237</td>\n",
       "      <td>0.0</td>\n",
       "      <td>2.18</td>\n",
       "      <td>0</td>\n",
       "      <td>0.458</td>\n",
       "      <td>6.998</td>\n",
       "      <td>45.8</td>\n",
       "      <td>6.0622</td>\n",
       "      <td>3</td>\n",
       "      <td>222</td>\n",
       "      <td>18.7</td>\n",
       "      <td>394.63</td>\n",
       "      <td>2.94</td>\n",
       "      <td>33.4</td>\n",
       "    </tr>\n",
       "    <tr>\n",
       "      <th>4</th>\n",
       "      <td>A5</td>\n",
       "      <td>0.06905</td>\n",
       "      <td>0.0</td>\n",
       "      <td>2.18</td>\n",
       "      <td>0</td>\n",
       "      <td>0.458</td>\n",
       "      <td>7.147</td>\n",
       "      <td>54.2</td>\n",
       "      <td>6.0622</td>\n",
       "      <td>3</td>\n",
       "      <td>222</td>\n",
       "      <td>18.7</td>\n",
       "      <td>396.90</td>\n",
       "      <td>5.33</td>\n",
       "      <td>36.2</td>\n",
       "    </tr>\n",
       "    <tr>\n",
       "      <th>...</th>\n",
       "      <td>...</td>\n",
       "      <td>...</td>\n",
       "      <td>...</td>\n",
       "      <td>...</td>\n",
       "      <td>...</td>\n",
       "      <td>...</td>\n",
       "      <td>...</td>\n",
       "      <td>...</td>\n",
       "      <td>...</td>\n",
       "      <td>...</td>\n",
       "      <td>...</td>\n",
       "      <td>...</td>\n",
       "      <td>...</td>\n",
       "      <td>...</td>\n",
       "      <td>...</td>\n",
       "    </tr>\n",
       "    <tr>\n",
       "      <th>501</th>\n",
       "      <td>A502</td>\n",
       "      <td>0.06263</td>\n",
       "      <td>0.0</td>\n",
       "      <td>11.93</td>\n",
       "      <td>0</td>\n",
       "      <td>0.573</td>\n",
       "      <td>6.593</td>\n",
       "      <td>69.1</td>\n",
       "      <td>2.4786</td>\n",
       "      <td>1</td>\n",
       "      <td>273</td>\n",
       "      <td>21.0</td>\n",
       "      <td>391.99</td>\n",
       "      <td>9.67</td>\n",
       "      <td>22.4</td>\n",
       "    </tr>\n",
       "    <tr>\n",
       "      <th>502</th>\n",
       "      <td>A503</td>\n",
       "      <td>0.04527</td>\n",
       "      <td>0.0</td>\n",
       "      <td>11.93</td>\n",
       "      <td>0</td>\n",
       "      <td>0.573</td>\n",
       "      <td>6.120</td>\n",
       "      <td>76.7</td>\n",
       "      <td>2.2875</td>\n",
       "      <td>1</td>\n",
       "      <td>273</td>\n",
       "      <td>21.0</td>\n",
       "      <td>396.90</td>\n",
       "      <td>9.08</td>\n",
       "      <td>20.6</td>\n",
       "    </tr>\n",
       "    <tr>\n",
       "      <th>503</th>\n",
       "      <td>A504</td>\n",
       "      <td>0.06076</td>\n",
       "      <td>0.0</td>\n",
       "      <td>11.93</td>\n",
       "      <td>0</td>\n",
       "      <td>0.573</td>\n",
       "      <td>6.976</td>\n",
       "      <td>91.0</td>\n",
       "      <td>2.1675</td>\n",
       "      <td>1</td>\n",
       "      <td>273</td>\n",
       "      <td>21.0</td>\n",
       "      <td>396.90</td>\n",
       "      <td>5.64</td>\n",
       "      <td>23.9</td>\n",
       "    </tr>\n",
       "    <tr>\n",
       "      <th>504</th>\n",
       "      <td>A505</td>\n",
       "      <td>0.10959</td>\n",
       "      <td>0.0</td>\n",
       "      <td>11.93</td>\n",
       "      <td>0</td>\n",
       "      <td>0.573</td>\n",
       "      <td>6.794</td>\n",
       "      <td>89.3</td>\n",
       "      <td>2.3889</td>\n",
       "      <td>1</td>\n",
       "      <td>273</td>\n",
       "      <td>21.0</td>\n",
       "      <td>393.45</td>\n",
       "      <td>6.48</td>\n",
       "      <td>22.0</td>\n",
       "    </tr>\n",
       "    <tr>\n",
       "      <th>505</th>\n",
       "      <td>A506</td>\n",
       "      <td>0.04741</td>\n",
       "      <td>0.0</td>\n",
       "      <td>11.93</td>\n",
       "      <td>0</td>\n",
       "      <td>0.573</td>\n",
       "      <td>6.030</td>\n",
       "      <td>80.8</td>\n",
       "      <td>2.5050</td>\n",
       "      <td>1</td>\n",
       "      <td>273</td>\n",
       "      <td>21.0</td>\n",
       "      <td>396.90</td>\n",
       "      <td>7.88</td>\n",
       "      <td>11.9</td>\n",
       "    </tr>\n",
       "  </tbody>\n",
       "</table>\n",
       "<p>506 rows × 15 columns</p>\n",
       "</div>"
      ],
      "text/plain": [
       "       id     CRIM    ZN  INDUS  CHAS    NOX     RM   AGE     DIS  RAD  TAX  \\\n",
       "0      A1  0.00632  18.0   2.31     0  0.538  6.575  65.2  4.0900    1  296   \n",
       "1      A2  0.02731   0.0   7.07     0  0.469  6.421  78.9  4.9671    2  242   \n",
       "2      A3  0.02729   0.0   7.07     0  0.469  7.185  61.1  4.9671    2  242   \n",
       "3      A4  0.03237   0.0   2.18     0  0.458  6.998  45.8  6.0622    3  222   \n",
       "4      A5  0.06905   0.0   2.18     0  0.458  7.147  54.2  6.0622    3  222   \n",
       "..    ...      ...   ...    ...   ...    ...    ...   ...     ...  ...  ...   \n",
       "501  A502  0.06263   0.0  11.93     0  0.573  6.593  69.1  2.4786    1  273   \n",
       "502  A503  0.04527   0.0  11.93     0  0.573  6.120  76.7  2.2875    1  273   \n",
       "503  A504  0.06076   0.0  11.93     0  0.573  6.976  91.0  2.1675    1  273   \n",
       "504  A505  0.10959   0.0  11.93     0  0.573  6.794  89.3  2.3889    1  273   \n",
       "505  A506  0.04741   0.0  11.93     0  0.573  6.030  80.8  2.5050    1  273   \n",
       "\n",
       "     PTRATIO       B  LSTAT  MEDV  \n",
       "0       15.3  396.90   4.98  24.0  \n",
       "1       17.8  396.90   9.14  21.6  \n",
       "2       17.8  392.83   4.03  34.7  \n",
       "3       18.7  394.63   2.94  33.4  \n",
       "4       18.7  396.90   5.33  36.2  \n",
       "..       ...     ...    ...   ...  \n",
       "501     21.0  391.99   9.67  22.4  \n",
       "502     21.0  396.90   9.08  20.6  \n",
       "503     21.0  396.90   5.64  23.9  \n",
       "504     21.0  393.45   6.48  22.0  \n",
       "505     21.0  396.90   7.88  11.9  \n",
       "\n",
       "[506 rows x 15 columns]"
      ]
     },
     "execution_count": 68,
     "metadata": {},
     "output_type": "execute_result"
    }
   ],
   "source": [
    "pd.read_csv(\"boston_house_prices.csv\")"
   ]
  },
  {
   "cell_type": "code",
   "execution_count": null,
   "metadata": {},
   "outputs": [],
   "source": [
    "## MEDV = valor / precio de la propiedad"
   ]
  },
  {
   "cell_type": "code",
   "execution_count": 69,
   "metadata": {},
   "outputs": [
    {
     "data": {
      "text/plain": [
       "id\n",
       "A1    24.0\n",
       "A2    21.6\n",
       "A3    34.7\n",
       "A4    33.4\n",
       "A5    36.2\n",
       "Name: MEDV, dtype: float64"
      ]
     },
     "execution_count": 69,
     "metadata": {},
     "output_type": "execute_result"
    }
   ],
   "source": [
    "housep = pd.read_csv(\"boston_house_prices.csv\", usecols = [\"id\",\"MEDV\"], index_col = \"id\", squeeze = True)\n",
    "housep.head()"
   ]
  },
  {
   "cell_type": "code",
   "execution_count": 70,
   "metadata": {},
   "outputs": [
    {
     "data": {
      "text/plain": [
       "count    506.000000\n",
       "mean      22.532806\n",
       "std        9.197104\n",
       "min        5.000000\n",
       "25%       17.025000\n",
       "50%       21.200000\n",
       "75%       25.000000\n",
       "max       50.000000\n",
       "Name: MEDV, dtype: float64"
      ]
     },
     "execution_count": 70,
     "metadata": {},
     "output_type": "execute_result"
    }
   ],
   "source": [
    "housep.describe()"
   ]
  },
  {
   "cell_type": "code",
   "execution_count": null,
   "metadata": {},
   "outputs": [],
   "source": [
    "# Definamos una función que, según el valor (MEDV) de la vivienda diga si es:\n",
    "# 'bajo' si precio < 17.025\n",
    "# 'medio' si precio entre 17.025 y 25\n",
    "# 'alto' si precio > 25"
   ]
  },
  {
   "cell_type": "markdown",
   "metadata": {},
   "source": [
    "if condicion:\n",
    "    ejecuta x acción si la condición vdra\n",
    "else:\n",
    "    ejecuta y si cond falsa"
   ]
  },
  {
   "cell_type": "code",
   "execution_count": 71,
   "metadata": {},
   "outputs": [],
   "source": [
    "def clasifica_precio(precio):\n",
    "    if precio < 17.025:\n",
    "        return 'bajo'\n",
    "    elif precio >= 17.025 and precio < 25:\n",
    "        return 'medio'\n",
    "    else:\n",
    "        return 'alto'"
   ]
  },
  {
   "cell_type": "code",
   "execution_count": 73,
   "metadata": {},
   "outputs": [
    {
     "data": {
      "text/plain": [
       "id\n",
       "A1      medio\n",
       "A2      medio\n",
       "A3       alto\n",
       "A4       alto\n",
       "A5       alto\n",
       "        ...  \n",
       "A502    medio\n",
       "A503    medio\n",
       "A504    medio\n",
       "A505    medio\n",
       "A506     bajo\n",
       "Name: MEDV, Length: 506, dtype: object"
      ]
     },
     "execution_count": 73,
     "metadata": {},
     "output_type": "execute_result"
    }
   ],
   "source": [
    "#para aplicarlo la función a una serie:\n",
    "#nombre_serie.apply(nom_funcion):\n",
    "housep.apply(clasifica_precio) # a cada elemento de la serie housep aplícale la función clasifica_precio"
   ]
  },
  {
   "cell_type": "code",
   "execution_count": null,
   "metadata": {},
   "outputs": [],
   "source": [
    "#el método apply() NO modifica la serie original, nos da una nueva."
   ]
  },
  {
   "cell_type": "code",
   "execution_count": 74,
   "metadata": {},
   "outputs": [
    {
     "data": {
      "text/plain": [
       "id\n",
       "A1    24.0\n",
       "A2    21.6\n",
       "A3    34.7\n",
       "A4    33.4\n",
       "A5    36.2\n",
       "Name: MEDV, dtype: float64"
      ]
     },
     "execution_count": 74,
     "metadata": {},
     "output_type": "execute_result"
    }
   ],
   "source": [
    "housep.head()"
   ]
  },
  {
   "cell_type": "code",
   "execution_count": 75,
   "metadata": {},
   "outputs": [
    {
     "data": {
      "text/plain": [
       "id\n",
       "A1      48.0\n",
       "A2      43.2\n",
       "A3      69.4\n",
       "A4      66.8\n",
       "A5      72.4\n",
       "        ... \n",
       "A502    44.8\n",
       "A503    41.2\n",
       "A504    47.8\n",
       "A505    44.0\n",
       "A506    23.8\n",
       "Name: MEDV, Length: 506, dtype: float64"
      ]
     },
     "execution_count": 75,
     "metadata": {},
     "output_type": "execute_result"
    }
   ],
   "source": [
    "#Sup queremos. multiplicar por 2 CADA ELEMENTO de la serie --> lo podemos hacer mediante una función anónima:\n",
    "housep.apply(lambda x: x*2)"
   ]
  },
  {
   "cell_type": "markdown",
   "metadata": {},
   "source": [
    "## Intro a DataFrames"
   ]
  },
  {
   "cell_type": "code",
   "execution_count": 76,
   "metadata": {},
   "outputs": [],
   "source": [
    "nba = pd.read_csv(\"nba.csv\")"
   ]
  },
  {
   "cell_type": "code",
   "execution_count": 77,
   "metadata": {},
   "outputs": [
    {
     "data": {
      "text/plain": [
       "pandas.core.frame.DataFrame"
      ]
     },
     "execution_count": 77,
     "metadata": {},
     "output_type": "execute_result"
    }
   ],
   "source": [
    "type(nba)"
   ]
  },
  {
   "cell_type": "code",
   "execution_count": 78,
   "metadata": {},
   "outputs": [
    {
     "data": {
      "text/html": [
       "<div>\n",
       "<style scoped>\n",
       "    .dataframe tbody tr th:only-of-type {\n",
       "        vertical-align: middle;\n",
       "    }\n",
       "\n",
       "    .dataframe tbody tr th {\n",
       "        vertical-align: top;\n",
       "    }\n",
       "\n",
       "    .dataframe thead th {\n",
       "        text-align: right;\n",
       "    }\n",
       "</style>\n",
       "<table border=\"1\" class=\"dataframe\">\n",
       "  <thead>\n",
       "    <tr style=\"text-align: right;\">\n",
       "      <th></th>\n",
       "      <th>Name</th>\n",
       "      <th>Team</th>\n",
       "      <th>Number</th>\n",
       "      <th>Position</th>\n",
       "      <th>Age</th>\n",
       "      <th>Height</th>\n",
       "      <th>Weight</th>\n",
       "      <th>College</th>\n",
       "      <th>Salary</th>\n",
       "    </tr>\n",
       "  </thead>\n",
       "  <tbody>\n",
       "    <tr>\n",
       "      <th>0</th>\n",
       "      <td>Avery Bradley</td>\n",
       "      <td>Boston Celtics</td>\n",
       "      <td>0.0</td>\n",
       "      <td>PG</td>\n",
       "      <td>25.0</td>\n",
       "      <td>6-2</td>\n",
       "      <td>180.0</td>\n",
       "      <td>Texas</td>\n",
       "      <td>7730337.0</td>\n",
       "    </tr>\n",
       "    <tr>\n",
       "      <th>1</th>\n",
       "      <td>Jae Crowder</td>\n",
       "      <td>Boston Celtics</td>\n",
       "      <td>99.0</td>\n",
       "      <td>SF</td>\n",
       "      <td>25.0</td>\n",
       "      <td>6-6</td>\n",
       "      <td>235.0</td>\n",
       "      <td>Marquette</td>\n",
       "      <td>6796117.0</td>\n",
       "    </tr>\n",
       "    <tr>\n",
       "      <th>2</th>\n",
       "      <td>John Holland</td>\n",
       "      <td>Boston Celtics</td>\n",
       "      <td>30.0</td>\n",
       "      <td>SG</td>\n",
       "      <td>27.0</td>\n",
       "      <td>6-5</td>\n",
       "      <td>205.0</td>\n",
       "      <td>Boston University</td>\n",
       "      <td>NaN</td>\n",
       "    </tr>\n",
       "    <tr>\n",
       "      <th>3</th>\n",
       "      <td>R.J. Hunter</td>\n",
       "      <td>Boston Celtics</td>\n",
       "      <td>28.0</td>\n",
       "      <td>SG</td>\n",
       "      <td>22.0</td>\n",
       "      <td>6-5</td>\n",
       "      <td>185.0</td>\n",
       "      <td>Georgia State</td>\n",
       "      <td>1148640.0</td>\n",
       "    </tr>\n",
       "    <tr>\n",
       "      <th>4</th>\n",
       "      <td>Jonas Jerebko</td>\n",
       "      <td>Boston Celtics</td>\n",
       "      <td>8.0</td>\n",
       "      <td>PF</td>\n",
       "      <td>29.0</td>\n",
       "      <td>6-10</td>\n",
       "      <td>231.0</td>\n",
       "      <td>NaN</td>\n",
       "      <td>5000000.0</td>\n",
       "    </tr>\n",
       "  </tbody>\n",
       "</table>\n",
       "</div>"
      ],
      "text/plain": [
       "            Name            Team  Number Position   Age Height  Weight  \\\n",
       "0  Avery Bradley  Boston Celtics     0.0       PG  25.0    6-2   180.0   \n",
       "1    Jae Crowder  Boston Celtics    99.0       SF  25.0    6-6   235.0   \n",
       "2   John Holland  Boston Celtics    30.0       SG  27.0    6-5   205.0   \n",
       "3    R.J. Hunter  Boston Celtics    28.0       SG  22.0    6-5   185.0   \n",
       "4  Jonas Jerebko  Boston Celtics     8.0       PF  29.0   6-10   231.0   \n",
       "\n",
       "             College     Salary  \n",
       "0              Texas  7730337.0  \n",
       "1          Marquette  6796117.0  \n",
       "2  Boston University        NaN  \n",
       "3      Georgia State  1148640.0  \n",
       "4                NaN  5000000.0  "
      ]
     },
     "execution_count": 78,
     "metadata": {},
     "output_type": "execute_result"
    }
   ],
   "source": [
    "nba.head()"
   ]
  },
  {
   "cell_type": "code",
   "execution_count": null,
   "metadata": {},
   "outputs": [],
   "source": [
    "# Varios de los métodos y atributos de las series se extienden a los dataframes"
   ]
  },
  {
   "cell_type": "code",
   "execution_count": 79,
   "metadata": {},
   "outputs": [
    {
     "data": {
      "text/html": [
       "<div>\n",
       "<style scoped>\n",
       "    .dataframe tbody tr th:only-of-type {\n",
       "        vertical-align: middle;\n",
       "    }\n",
       "\n",
       "    .dataframe tbody tr th {\n",
       "        vertical-align: top;\n",
       "    }\n",
       "\n",
       "    .dataframe thead th {\n",
       "        text-align: right;\n",
       "    }\n",
       "</style>\n",
       "<table border=\"1\" class=\"dataframe\">\n",
       "  <thead>\n",
       "    <tr style=\"text-align: right;\">\n",
       "      <th></th>\n",
       "      <th>Name</th>\n",
       "      <th>Team</th>\n",
       "      <th>Number</th>\n",
       "      <th>Position</th>\n",
       "      <th>Age</th>\n",
       "      <th>Height</th>\n",
       "      <th>Weight</th>\n",
       "      <th>College</th>\n",
       "      <th>Salary</th>\n",
       "    </tr>\n",
       "  </thead>\n",
       "  <tbody>\n",
       "    <tr>\n",
       "      <th>453</th>\n",
       "      <td>Shelvin Mack</td>\n",
       "      <td>Utah Jazz</td>\n",
       "      <td>8.0</td>\n",
       "      <td>PG</td>\n",
       "      <td>26.0</td>\n",
       "      <td>6-3</td>\n",
       "      <td>203.0</td>\n",
       "      <td>Butler</td>\n",
       "      <td>2433333.0</td>\n",
       "    </tr>\n",
       "    <tr>\n",
       "      <th>454</th>\n",
       "      <td>Raul Neto</td>\n",
       "      <td>Utah Jazz</td>\n",
       "      <td>25.0</td>\n",
       "      <td>PG</td>\n",
       "      <td>24.0</td>\n",
       "      <td>6-1</td>\n",
       "      <td>179.0</td>\n",
       "      <td>NaN</td>\n",
       "      <td>900000.0</td>\n",
       "    </tr>\n",
       "    <tr>\n",
       "      <th>455</th>\n",
       "      <td>Tibor Pleiss</td>\n",
       "      <td>Utah Jazz</td>\n",
       "      <td>21.0</td>\n",
       "      <td>C</td>\n",
       "      <td>26.0</td>\n",
       "      <td>7-3</td>\n",
       "      <td>256.0</td>\n",
       "      <td>NaN</td>\n",
       "      <td>2900000.0</td>\n",
       "    </tr>\n",
       "    <tr>\n",
       "      <th>456</th>\n",
       "      <td>Jeff Withey</td>\n",
       "      <td>Utah Jazz</td>\n",
       "      <td>24.0</td>\n",
       "      <td>C</td>\n",
       "      <td>26.0</td>\n",
       "      <td>7-0</td>\n",
       "      <td>231.0</td>\n",
       "      <td>Kansas</td>\n",
       "      <td>947276.0</td>\n",
       "    </tr>\n",
       "    <tr>\n",
       "      <th>457</th>\n",
       "      <td>NaN</td>\n",
       "      <td>NaN</td>\n",
       "      <td>NaN</td>\n",
       "      <td>NaN</td>\n",
       "      <td>NaN</td>\n",
       "      <td>NaN</td>\n",
       "      <td>NaN</td>\n",
       "      <td>NaN</td>\n",
       "      <td>NaN</td>\n",
       "    </tr>\n",
       "  </tbody>\n",
       "</table>\n",
       "</div>"
      ],
      "text/plain": [
       "             Name       Team  Number Position   Age Height  Weight College  \\\n",
       "453  Shelvin Mack  Utah Jazz     8.0       PG  26.0    6-3   203.0  Butler   \n",
       "454     Raul Neto  Utah Jazz    25.0       PG  24.0    6-1   179.0     NaN   \n",
       "455  Tibor Pleiss  Utah Jazz    21.0        C  26.0    7-3   256.0     NaN   \n",
       "456   Jeff Withey  Utah Jazz    24.0        C  26.0    7-0   231.0  Kansas   \n",
       "457           NaN        NaN     NaN      NaN   NaN    NaN     NaN     NaN   \n",
       "\n",
       "        Salary  \n",
       "453  2433333.0  \n",
       "454   900000.0  \n",
       "455  2900000.0  \n",
       "456   947276.0  \n",
       "457        NaN  "
      ]
     },
     "execution_count": 79,
     "metadata": {},
     "output_type": "execute_result"
    }
   ],
   "source": [
    "nba.tail()"
   ]
  },
  {
   "cell_type": "code",
   "execution_count": 80,
   "metadata": {},
   "outputs": [
    {
     "data": {
      "text/plain": [
       "RangeIndex(start=0, stop=458, step=1)"
      ]
     },
     "execution_count": 80,
     "metadata": {},
     "output_type": "execute_result"
    }
   ],
   "source": [
    "nba.index"
   ]
  },
  {
   "cell_type": "code",
   "execution_count": 81,
   "metadata": {},
   "outputs": [
    {
     "data": {
      "text/plain": [
       "458"
      ]
     },
     "execution_count": 81,
     "metadata": {},
     "output_type": "execute_result"
    }
   ],
   "source": [
    "len(nba)"
   ]
  },
  {
   "cell_type": "code",
   "execution_count": 82,
   "metadata": {},
   "outputs": [
    {
     "data": {
      "text/plain": [
       "array([['Avery Bradley', 'Boston Celtics', 0.0, ..., 180.0, 'Texas',\n",
       "        7730337.0],\n",
       "       ['Jae Crowder', 'Boston Celtics', 99.0, ..., 235.0, 'Marquette',\n",
       "        6796117.0],\n",
       "       ['John Holland', 'Boston Celtics', 30.0, ..., 205.0,\n",
       "        'Boston University', nan],\n",
       "       ...,\n",
       "       ['Tibor Pleiss', 'Utah Jazz', 21.0, ..., 256.0, nan, 2900000.0],\n",
       "       ['Jeff Withey', 'Utah Jazz', 24.0, ..., 231.0, 'Kansas', 947276.0],\n",
       "       [nan, nan, nan, ..., nan, nan, nan]], dtype=object)"
      ]
     },
     "execution_count": 82,
     "metadata": {},
     "output_type": "execute_result"
    }
   ],
   "source": [
    "nba.values"
   ]
  },
  {
   "cell_type": "code",
   "execution_count": 83,
   "metadata": {},
   "outputs": [
    {
     "data": {
      "text/plain": [
       "(458, 9)"
      ]
     },
     "execution_count": 83,
     "metadata": {},
     "output_type": "execute_result"
    }
   ],
   "source": [
    "nba.shape"
   ]
  },
  {
   "cell_type": "code",
   "execution_count": 84,
   "metadata": {},
   "outputs": [
    {
     "data": {
      "text/plain": [
       "Name         object\n",
       "Team         object\n",
       "Number      float64\n",
       "Position     object\n",
       "Age         float64\n",
       "Height       object\n",
       "Weight      float64\n",
       "College      object\n",
       "Salary      float64\n",
       "dtype: object"
      ]
     },
     "execution_count": 84,
     "metadata": {},
     "output_type": "execute_result"
    }
   ],
   "source": [
    "#Qué tipo de información tiene el DataFrame?\n",
    "nba.dtypes"
   ]
  },
  {
   "cell_type": "code",
   "execution_count": 85,
   "metadata": {},
   "outputs": [
    {
     "name": "stdout",
     "output_type": "stream",
     "text": [
      "<class 'pandas.core.frame.DataFrame'>\n",
      "RangeIndex: 458 entries, 0 to 457\n",
      "Data columns (total 9 columns):\n",
      " #   Column    Non-Null Count  Dtype  \n",
      "---  ------    --------------  -----  \n",
      " 0   Name      457 non-null    object \n",
      " 1   Team      457 non-null    object \n",
      " 2   Number    457 non-null    float64\n",
      " 3   Position  457 non-null    object \n",
      " 4   Age       457 non-null    float64\n",
      " 5   Height    457 non-null    object \n",
      " 6   Weight    457 non-null    float64\n",
      " 7   College   373 non-null    object \n",
      " 8   Salary    446 non-null    float64\n",
      "dtypes: float64(4), object(5)\n",
      "memory usage: 32.3+ KB\n"
     ]
    }
   ],
   "source": [
    "nba.info()"
   ]
  },
  {
   "cell_type": "code",
   "execution_count": 86,
   "metadata": {},
   "outputs": [
    {
     "data": {
      "text/plain": [
       "pandas.core.series.Series"
      ]
     },
     "execution_count": 86,
     "metadata": {},
     "output_type": "execute_result"
    }
   ],
   "source": [
    "type(nba.dtypes)"
   ]
  },
  {
   "cell_type": "code",
   "execution_count": 87,
   "metadata": {},
   "outputs": [
    {
     "data": {
      "text/plain": [
       "object     5\n",
       "float64    4\n",
       "dtype: int64"
      ]
     },
     "execution_count": 87,
     "metadata": {},
     "output_type": "execute_result"
    }
   ],
   "source": [
    "nba.dtypes.value_counts()"
   ]
  },
  {
   "cell_type": "markdown",
   "metadata": {},
   "source": [
    "## Atributos específicos de los Dataframes"
   ]
  },
  {
   "cell_type": "code",
   "execution_count": 88,
   "metadata": {},
   "outputs": [
    {
     "data": {
      "text/plain": [
       "Index(['Name', 'Team', 'Number', 'Position', 'Age', 'Height', 'Weight',\n",
       "       'College', 'Salary'],\n",
       "      dtype='object')"
      ]
     },
     "execution_count": 88,
     "metadata": {},
     "output_type": "execute_result"
    }
   ],
   "source": [
    "nba.columns"
   ]
  },
  {
   "cell_type": "code",
   "execution_count": 89,
   "metadata": {},
   "outputs": [
    {
     "data": {
      "text/plain": [
       "[RangeIndex(start=0, stop=458, step=1),\n",
       " Index(['Name', 'Team', 'Number', 'Position', 'Age', 'Height', 'Weight',\n",
       "        'College', 'Salary'],\n",
       "       dtype='object')]"
      ]
     },
     "execution_count": 89,
     "metadata": {},
     "output_type": "execute_result"
    }
   ],
   "source": [
    "#información de los índices de los renglones y las columnas\n",
    "nba.axes"
   ]
  },
  {
   "cell_type": "code",
   "execution_count": 90,
   "metadata": {},
   "outputs": [
    {
     "data": {
      "text/plain": [
       "0      Avery Bradley\n",
       "1        Jae Crowder\n",
       "2       John Holland\n",
       "3        R.J. Hunter\n",
       "4      Jonas Jerebko\n",
       "           ...      \n",
       "453     Shelvin Mack\n",
       "454        Raul Neto\n",
       "455     Tibor Pleiss\n",
       "456      Jeff Withey\n",
       "457              NaN\n",
       "Name: Name, Length: 458, dtype: object"
      ]
     },
     "execution_count": 90,
     "metadata": {},
     "output_type": "execute_result"
    }
   ],
   "source": [
    "#extraer una columna de un DF\n",
    "nba.Name"
   ]
  },
  {
   "cell_type": "code",
   "execution_count": 91,
   "metadata": {},
   "outputs": [
    {
     "data": {
      "text/plain": [
       "0       0.0\n",
       "1      99.0\n",
       "2      30.0\n",
       "3      28.0\n",
       "4       8.0\n",
       "       ... \n",
       "453     8.0\n",
       "454    25.0\n",
       "455    21.0\n",
       "456    24.0\n",
       "457     NaN\n",
       "Name: Number, Length: 458, dtype: float64"
      ]
     },
     "execution_count": 91,
     "metadata": {},
     "output_type": "execute_result"
    }
   ],
   "source": [
    "nba.Number"
   ]
  },
  {
   "cell_type": "code",
   "execution_count": null,
   "metadata": {},
   "outputs": [],
   "source": [
    "#esta forma de ver las columnas NO sirve si los nombres de las variables tienen espacio"
   ]
  },
  {
   "cell_type": "code",
   "execution_count": 92,
   "metadata": {},
   "outputs": [
    {
     "data": {
      "text/plain": [
       "0      Avery Bradley\n",
       "1        Jae Crowder\n",
       "2       John Holland\n",
       "3        R.J. Hunter\n",
       "4      Jonas Jerebko\n",
       "           ...      \n",
       "453     Shelvin Mack\n",
       "454        Raul Neto\n",
       "455     Tibor Pleiss\n",
       "456      Jeff Withey\n",
       "457              NaN\n",
       "Name: Name, Length: 458, dtype: object"
      ]
     },
     "execution_count": 92,
     "metadata": {},
     "output_type": "execute_result"
    }
   ],
   "source": [
    "nba['Name'] #esta forma sí funciona aun con espacios en los nombres de las variables"
   ]
  },
  {
   "cell_type": "code",
   "execution_count": 93,
   "metadata": {},
   "outputs": [
    {
     "data": {
      "text/html": [
       "<div>\n",
       "<style scoped>\n",
       "    .dataframe tbody tr th:only-of-type {\n",
       "        vertical-align: middle;\n",
       "    }\n",
       "\n",
       "    .dataframe tbody tr th {\n",
       "        vertical-align: top;\n",
       "    }\n",
       "\n",
       "    .dataframe thead th {\n",
       "        text-align: right;\n",
       "    }\n",
       "</style>\n",
       "<table border=\"1\" class=\"dataframe\">\n",
       "  <thead>\n",
       "    <tr style=\"text-align: right;\">\n",
       "      <th></th>\n",
       "      <th>Name</th>\n",
       "      <th>Team</th>\n",
       "      <th>Number</th>\n",
       "      <th>Position</th>\n",
       "      <th>Age</th>\n",
       "      <th>Height</th>\n",
       "      <th>Weight</th>\n",
       "      <th>College</th>\n",
       "      <th>Salary</th>\n",
       "    </tr>\n",
       "  </thead>\n",
       "  <tbody>\n",
       "    <tr>\n",
       "      <th>0</th>\n",
       "      <td>Avery Bradley</td>\n",
       "      <td>Boston Celtics</td>\n",
       "      <td>0.0</td>\n",
       "      <td>PG</td>\n",
       "      <td>25.0</td>\n",
       "      <td>6-2</td>\n",
       "      <td>180.0</td>\n",
       "      <td>Texas</td>\n",
       "      <td>7730337.0</td>\n",
       "    </tr>\n",
       "    <tr>\n",
       "      <th>1</th>\n",
       "      <td>Jae Crowder</td>\n",
       "      <td>Boston Celtics</td>\n",
       "      <td>99.0</td>\n",
       "      <td>SF</td>\n",
       "      <td>25.0</td>\n",
       "      <td>6-6</td>\n",
       "      <td>235.0</td>\n",
       "      <td>Marquette</td>\n",
       "      <td>6796117.0</td>\n",
       "    </tr>\n",
       "    <tr>\n",
       "      <th>2</th>\n",
       "      <td>John Holland</td>\n",
       "      <td>Boston Celtics</td>\n",
       "      <td>30.0</td>\n",
       "      <td>SG</td>\n",
       "      <td>27.0</td>\n",
       "      <td>6-5</td>\n",
       "      <td>205.0</td>\n",
       "      <td>Boston University</td>\n",
       "      <td>NaN</td>\n",
       "    </tr>\n",
       "    <tr>\n",
       "      <th>3</th>\n",
       "      <td>R.J. Hunter</td>\n",
       "      <td>Boston Celtics</td>\n",
       "      <td>28.0</td>\n",
       "      <td>SG</td>\n",
       "      <td>22.0</td>\n",
       "      <td>6-5</td>\n",
       "      <td>185.0</td>\n",
       "      <td>Georgia State</td>\n",
       "      <td>1148640.0</td>\n",
       "    </tr>\n",
       "    <tr>\n",
       "      <th>4</th>\n",
       "      <td>Jonas Jerebko</td>\n",
       "      <td>Boston Celtics</td>\n",
       "      <td>8.0</td>\n",
       "      <td>PF</td>\n",
       "      <td>29.0</td>\n",
       "      <td>6-10</td>\n",
       "      <td>231.0</td>\n",
       "      <td>NaN</td>\n",
       "      <td>5000000.0</td>\n",
       "    </tr>\n",
       "  </tbody>\n",
       "</table>\n",
       "</div>"
      ],
      "text/plain": [
       "            Name            Team  Number Position   Age Height  Weight  \\\n",
       "0  Avery Bradley  Boston Celtics     0.0       PG  25.0    6-2   180.0   \n",
       "1    Jae Crowder  Boston Celtics    99.0       SF  25.0    6-6   235.0   \n",
       "2   John Holland  Boston Celtics    30.0       SG  27.0    6-5   205.0   \n",
       "3    R.J. Hunter  Boston Celtics    28.0       SG  22.0    6-5   185.0   \n",
       "4  Jonas Jerebko  Boston Celtics     8.0       PF  29.0   6-10   231.0   \n",
       "\n",
       "             College     Salary  \n",
       "0              Texas  7730337.0  \n",
       "1          Marquette  6796117.0  \n",
       "2  Boston University        NaN  \n",
       "3      Georgia State  1148640.0  \n",
       "4                NaN  5000000.0  "
      ]
     },
     "execution_count": 93,
     "metadata": {},
     "output_type": "execute_result"
    }
   ],
   "source": [
    "nba.head()"
   ]
  },
  {
   "cell_type": "code",
   "execution_count": 94,
   "metadata": {},
   "outputs": [
    {
     "data": {
      "text/plain": [
       "2159837111.0"
      ]
     },
     "execution_count": 94,
     "metadata": {},
     "output_type": "execute_result"
    }
   ],
   "source": [
    "nba['Salary'].sum()"
   ]
  },
  {
   "cell_type": "code",
   "execution_count": 95,
   "metadata": {},
   "outputs": [
    {
     "data": {
      "text/plain": [
       "4842684.105381166"
      ]
     },
     "execution_count": 95,
     "metadata": {},
     "output_type": "execute_result"
    }
   ],
   "source": [
    "nba['Salary'].mean()"
   ]
  },
  {
   "cell_type": "code",
   "execution_count": 97,
   "metadata": {},
   "outputs": [
    {
     "data": {
      "text/html": [
       "<div>\n",
       "<style scoped>\n",
       "    .dataframe tbody tr th:only-of-type {\n",
       "        vertical-align: middle;\n",
       "    }\n",
       "\n",
       "    .dataframe tbody tr th {\n",
       "        vertical-align: top;\n",
       "    }\n",
       "\n",
       "    .dataframe thead th {\n",
       "        text-align: right;\n",
       "    }\n",
       "</style>\n",
       "<table border=\"1\" class=\"dataframe\">\n",
       "  <thead>\n",
       "    <tr style=\"text-align: right;\">\n",
       "      <th></th>\n",
       "      <th>Weight</th>\n",
       "      <th>Age</th>\n",
       "    </tr>\n",
       "  </thead>\n",
       "  <tbody>\n",
       "    <tr>\n",
       "      <th>0</th>\n",
       "      <td>180.0</td>\n",
       "      <td>25.0</td>\n",
       "    </tr>\n",
       "    <tr>\n",
       "      <th>1</th>\n",
       "      <td>235.0</td>\n",
       "      <td>25.0</td>\n",
       "    </tr>\n",
       "    <tr>\n",
       "      <th>2</th>\n",
       "      <td>205.0</td>\n",
       "      <td>27.0</td>\n",
       "    </tr>\n",
       "    <tr>\n",
       "      <th>3</th>\n",
       "      <td>185.0</td>\n",
       "      <td>22.0</td>\n",
       "    </tr>\n",
       "    <tr>\n",
       "      <th>4</th>\n",
       "      <td>231.0</td>\n",
       "      <td>29.0</td>\n",
       "    </tr>\n",
       "    <tr>\n",
       "      <th>...</th>\n",
       "      <td>...</td>\n",
       "      <td>...</td>\n",
       "    </tr>\n",
       "    <tr>\n",
       "      <th>453</th>\n",
       "      <td>203.0</td>\n",
       "      <td>26.0</td>\n",
       "    </tr>\n",
       "    <tr>\n",
       "      <th>454</th>\n",
       "      <td>179.0</td>\n",
       "      <td>24.0</td>\n",
       "    </tr>\n",
       "    <tr>\n",
       "      <th>455</th>\n",
       "      <td>256.0</td>\n",
       "      <td>26.0</td>\n",
       "    </tr>\n",
       "    <tr>\n",
       "      <th>456</th>\n",
       "      <td>231.0</td>\n",
       "      <td>26.0</td>\n",
       "    </tr>\n",
       "    <tr>\n",
       "      <th>457</th>\n",
       "      <td>NaN</td>\n",
       "      <td>NaN</td>\n",
       "    </tr>\n",
       "  </tbody>\n",
       "</table>\n",
       "<p>458 rows × 2 columns</p>\n",
       "</div>"
      ],
      "text/plain": [
       "     Weight   Age\n",
       "0     180.0  25.0\n",
       "1     235.0  25.0\n",
       "2     205.0  27.0\n",
       "3     185.0  22.0\n",
       "4     231.0  29.0\n",
       "..      ...   ...\n",
       "453   203.0  26.0\n",
       "454   179.0  24.0\n",
       "455   256.0  26.0\n",
       "456   231.0  26.0\n",
       "457     NaN   NaN\n",
       "\n",
       "[458 rows x 2 columns]"
      ]
     },
     "execution_count": 97,
     "metadata": {},
     "output_type": "execute_result"
    }
   ],
   "source": [
    "#extraer 2 o más columnas\n",
    "nba[[\"Weight\",\"Age\"]]"
   ]
  },
  {
   "cell_type": "code",
   "execution_count": 98,
   "metadata": {},
   "outputs": [
    {
     "data": {
      "text/html": [
       "<div>\n",
       "<style scoped>\n",
       "    .dataframe tbody tr th:only-of-type {\n",
       "        vertical-align: middle;\n",
       "    }\n",
       "\n",
       "    .dataframe tbody tr th {\n",
       "        vertical-align: top;\n",
       "    }\n",
       "\n",
       "    .dataframe thead th {\n",
       "        text-align: right;\n",
       "    }\n",
       "</style>\n",
       "<table border=\"1\" class=\"dataframe\">\n",
       "  <thead>\n",
       "    <tr style=\"text-align: right;\">\n",
       "      <th></th>\n",
       "      <th>Name</th>\n",
       "      <th>Team</th>\n",
       "      <th>Age</th>\n",
       "    </tr>\n",
       "  </thead>\n",
       "  <tbody>\n",
       "    <tr>\n",
       "      <th>0</th>\n",
       "      <td>Avery Bradley</td>\n",
       "      <td>Boston Celtics</td>\n",
       "      <td>25.0</td>\n",
       "    </tr>\n",
       "    <tr>\n",
       "      <th>1</th>\n",
       "      <td>Jae Crowder</td>\n",
       "      <td>Boston Celtics</td>\n",
       "      <td>25.0</td>\n",
       "    </tr>\n",
       "    <tr>\n",
       "      <th>2</th>\n",
       "      <td>John Holland</td>\n",
       "      <td>Boston Celtics</td>\n",
       "      <td>27.0</td>\n",
       "    </tr>\n",
       "    <tr>\n",
       "      <th>3</th>\n",
       "      <td>R.J. Hunter</td>\n",
       "      <td>Boston Celtics</td>\n",
       "      <td>22.0</td>\n",
       "    </tr>\n",
       "    <tr>\n",
       "      <th>4</th>\n",
       "      <td>Jonas Jerebko</td>\n",
       "      <td>Boston Celtics</td>\n",
       "      <td>29.0</td>\n",
       "    </tr>\n",
       "    <tr>\n",
       "      <th>...</th>\n",
       "      <td>...</td>\n",
       "      <td>...</td>\n",
       "      <td>...</td>\n",
       "    </tr>\n",
       "    <tr>\n",
       "      <th>453</th>\n",
       "      <td>Shelvin Mack</td>\n",
       "      <td>Utah Jazz</td>\n",
       "      <td>26.0</td>\n",
       "    </tr>\n",
       "    <tr>\n",
       "      <th>454</th>\n",
       "      <td>Raul Neto</td>\n",
       "      <td>Utah Jazz</td>\n",
       "      <td>24.0</td>\n",
       "    </tr>\n",
       "    <tr>\n",
       "      <th>455</th>\n",
       "      <td>Tibor Pleiss</td>\n",
       "      <td>Utah Jazz</td>\n",
       "      <td>26.0</td>\n",
       "    </tr>\n",
       "    <tr>\n",
       "      <th>456</th>\n",
       "      <td>Jeff Withey</td>\n",
       "      <td>Utah Jazz</td>\n",
       "      <td>26.0</td>\n",
       "    </tr>\n",
       "    <tr>\n",
       "      <th>457</th>\n",
       "      <td>NaN</td>\n",
       "      <td>NaN</td>\n",
       "      <td>NaN</td>\n",
       "    </tr>\n",
       "  </tbody>\n",
       "</table>\n",
       "<p>458 rows × 3 columns</p>\n",
       "</div>"
      ],
      "text/plain": [
       "              Name            Team   Age\n",
       "0    Avery Bradley  Boston Celtics  25.0\n",
       "1      Jae Crowder  Boston Celtics  25.0\n",
       "2     John Holland  Boston Celtics  27.0\n",
       "3      R.J. Hunter  Boston Celtics  22.0\n",
       "4    Jonas Jerebko  Boston Celtics  29.0\n",
       "..             ...             ...   ...\n",
       "453   Shelvin Mack       Utah Jazz  26.0\n",
       "454      Raul Neto       Utah Jazz  24.0\n",
       "455   Tibor Pleiss       Utah Jazz  26.0\n",
       "456    Jeff Withey       Utah Jazz  26.0\n",
       "457            NaN             NaN   NaN\n",
       "\n",
       "[458 rows x 3 columns]"
      ]
     },
     "execution_count": 98,
     "metadata": {},
     "output_type": "execute_result"
    }
   ],
   "source": [
    "nba[[\"Name\",\"Team\",\"Age\"]]"
   ]
  },
  {
   "cell_type": "code",
   "execution_count": 99,
   "metadata": {},
   "outputs": [
    {
     "data": {
      "text/html": [
       "<div>\n",
       "<style scoped>\n",
       "    .dataframe tbody tr th:only-of-type {\n",
       "        vertical-align: middle;\n",
       "    }\n",
       "\n",
       "    .dataframe tbody tr th {\n",
       "        vertical-align: top;\n",
       "    }\n",
       "\n",
       "    .dataframe thead th {\n",
       "        text-align: right;\n",
       "    }\n",
       "</style>\n",
       "<table border=\"1\" class=\"dataframe\">\n",
       "  <thead>\n",
       "    <tr style=\"text-align: right;\">\n",
       "      <th></th>\n",
       "      <th>Age</th>\n",
       "      <th>Name</th>\n",
       "      <th>Team</th>\n",
       "    </tr>\n",
       "  </thead>\n",
       "  <tbody>\n",
       "    <tr>\n",
       "      <th>0</th>\n",
       "      <td>25.0</td>\n",
       "      <td>Avery Bradley</td>\n",
       "      <td>Boston Celtics</td>\n",
       "    </tr>\n",
       "    <tr>\n",
       "      <th>1</th>\n",
       "      <td>25.0</td>\n",
       "      <td>Jae Crowder</td>\n",
       "      <td>Boston Celtics</td>\n",
       "    </tr>\n",
       "    <tr>\n",
       "      <th>2</th>\n",
       "      <td>27.0</td>\n",
       "      <td>John Holland</td>\n",
       "      <td>Boston Celtics</td>\n",
       "    </tr>\n",
       "    <tr>\n",
       "      <th>3</th>\n",
       "      <td>22.0</td>\n",
       "      <td>R.J. Hunter</td>\n",
       "      <td>Boston Celtics</td>\n",
       "    </tr>\n",
       "    <tr>\n",
       "      <th>4</th>\n",
       "      <td>29.0</td>\n",
       "      <td>Jonas Jerebko</td>\n",
       "      <td>Boston Celtics</td>\n",
       "    </tr>\n",
       "    <tr>\n",
       "      <th>...</th>\n",
       "      <td>...</td>\n",
       "      <td>...</td>\n",
       "      <td>...</td>\n",
       "    </tr>\n",
       "    <tr>\n",
       "      <th>453</th>\n",
       "      <td>26.0</td>\n",
       "      <td>Shelvin Mack</td>\n",
       "      <td>Utah Jazz</td>\n",
       "    </tr>\n",
       "    <tr>\n",
       "      <th>454</th>\n",
       "      <td>24.0</td>\n",
       "      <td>Raul Neto</td>\n",
       "      <td>Utah Jazz</td>\n",
       "    </tr>\n",
       "    <tr>\n",
       "      <th>455</th>\n",
       "      <td>26.0</td>\n",
       "      <td>Tibor Pleiss</td>\n",
       "      <td>Utah Jazz</td>\n",
       "    </tr>\n",
       "    <tr>\n",
       "      <th>456</th>\n",
       "      <td>26.0</td>\n",
       "      <td>Jeff Withey</td>\n",
       "      <td>Utah Jazz</td>\n",
       "    </tr>\n",
       "    <tr>\n",
       "      <th>457</th>\n",
       "      <td>NaN</td>\n",
       "      <td>NaN</td>\n",
       "      <td>NaN</td>\n",
       "    </tr>\n",
       "  </tbody>\n",
       "</table>\n",
       "<p>458 rows × 3 columns</p>\n",
       "</div>"
      ],
      "text/plain": [
       "      Age           Name            Team\n",
       "0    25.0  Avery Bradley  Boston Celtics\n",
       "1    25.0    Jae Crowder  Boston Celtics\n",
       "2    27.0   John Holland  Boston Celtics\n",
       "3    22.0    R.J. Hunter  Boston Celtics\n",
       "4    29.0  Jonas Jerebko  Boston Celtics\n",
       "..    ...            ...             ...\n",
       "453  26.0   Shelvin Mack       Utah Jazz\n",
       "454  24.0      Raul Neto       Utah Jazz\n",
       "455  26.0   Tibor Pleiss       Utah Jazz\n",
       "456  26.0    Jeff Withey       Utah Jazz\n",
       "457   NaN            NaN             NaN\n",
       "\n",
       "[458 rows x 3 columns]"
      ]
     },
     "execution_count": 99,
     "metadata": {},
     "output_type": "execute_result"
    }
   ],
   "source": [
    "# El orden depende de cómo se exprese en el código.\n",
    "nba[[\"Age\",\"Name\",\"Team\"]]"
   ]
  },
  {
   "cell_type": "code",
   "execution_count": 102,
   "metadata": {},
   "outputs": [
    {
     "data": {
      "text/html": [
       "<div>\n",
       "<style scoped>\n",
       "    .dataframe tbody tr th:only-of-type {\n",
       "        vertical-align: middle;\n",
       "    }\n",
       "\n",
       "    .dataframe tbody tr th {\n",
       "        vertical-align: top;\n",
       "    }\n",
       "\n",
       "    .dataframe thead th {\n",
       "        text-align: right;\n",
       "    }\n",
       "</style>\n",
       "<table border=\"1\" class=\"dataframe\">\n",
       "  <thead>\n",
       "    <tr style=\"text-align: right;\">\n",
       "      <th></th>\n",
       "      <th>Age</th>\n",
       "      <th>Name</th>\n",
       "    </tr>\n",
       "  </thead>\n",
       "  <tbody>\n",
       "    <tr>\n",
       "      <th>0</th>\n",
       "      <td>25.0</td>\n",
       "      <td>Avery Bradley</td>\n",
       "    </tr>\n",
       "    <tr>\n",
       "      <th>1</th>\n",
       "      <td>25.0</td>\n",
       "      <td>Jae Crowder</td>\n",
       "    </tr>\n",
       "    <tr>\n",
       "      <th>2</th>\n",
       "      <td>27.0</td>\n",
       "      <td>John Holland</td>\n",
       "    </tr>\n",
       "    <tr>\n",
       "      <th>3</th>\n",
       "      <td>22.0</td>\n",
       "      <td>R.J. Hunter</td>\n",
       "    </tr>\n",
       "    <tr>\n",
       "      <th>4</th>\n",
       "      <td>29.0</td>\n",
       "      <td>Jonas Jerebko</td>\n",
       "    </tr>\n",
       "    <tr>\n",
       "      <th>...</th>\n",
       "      <td>...</td>\n",
       "      <td>...</td>\n",
       "    </tr>\n",
       "    <tr>\n",
       "      <th>453</th>\n",
       "      <td>26.0</td>\n",
       "      <td>Shelvin Mack</td>\n",
       "    </tr>\n",
       "    <tr>\n",
       "      <th>454</th>\n",
       "      <td>24.0</td>\n",
       "      <td>Raul Neto</td>\n",
       "    </tr>\n",
       "    <tr>\n",
       "      <th>455</th>\n",
       "      <td>26.0</td>\n",
       "      <td>Tibor Pleiss</td>\n",
       "    </tr>\n",
       "    <tr>\n",
       "      <th>456</th>\n",
       "      <td>26.0</td>\n",
       "      <td>Jeff Withey</td>\n",
       "    </tr>\n",
       "    <tr>\n",
       "      <th>457</th>\n",
       "      <td>NaN</td>\n",
       "      <td>NaN</td>\n",
       "    </tr>\n",
       "  </tbody>\n",
       "</table>\n",
       "<p>458 rows × 2 columns</p>\n",
       "</div>"
      ],
      "text/plain": [
       "      Age           Name\n",
       "0    25.0  Avery Bradley\n",
       "1    25.0    Jae Crowder\n",
       "2    27.0   John Holland\n",
       "3    22.0    R.J. Hunter\n",
       "4    29.0  Jonas Jerebko\n",
       "..    ...            ...\n",
       "453  26.0   Shelvin Mack\n",
       "454  24.0      Raul Neto\n",
       "455  26.0   Tibor Pleiss\n",
       "456  26.0    Jeff Withey\n",
       "457   NaN            NaN\n",
       "\n",
       "[458 rows x 2 columns]"
      ]
     },
     "execution_count": 102,
     "metadata": {},
     "output_type": "execute_result"
    }
   ],
   "source": [
    "nba[['Age','Name']]"
   ]
  },
  {
   "cell_type": "code",
   "execution_count": 103,
   "metadata": {},
   "outputs": [
    {
     "data": {
      "text/html": [
       "<div>\n",
       "<style scoped>\n",
       "    .dataframe tbody tr th:only-of-type {\n",
       "        vertical-align: middle;\n",
       "    }\n",
       "\n",
       "    .dataframe tbody tr th {\n",
       "        vertical-align: top;\n",
       "    }\n",
       "\n",
       "    .dataframe thead th {\n",
       "        text-align: right;\n",
       "    }\n",
       "</style>\n",
       "<table border=\"1\" class=\"dataframe\">\n",
       "  <thead>\n",
       "    <tr style=\"text-align: right;\">\n",
       "      <th></th>\n",
       "      <th>Age</th>\n",
       "      <th>Name</th>\n",
       "    </tr>\n",
       "  </thead>\n",
       "  <tbody>\n",
       "    <tr>\n",
       "      <th>0</th>\n",
       "      <td>25.0</td>\n",
       "      <td>Avery Bradley</td>\n",
       "    </tr>\n",
       "    <tr>\n",
       "      <th>1</th>\n",
       "      <td>25.0</td>\n",
       "      <td>Jae Crowder</td>\n",
       "    </tr>\n",
       "    <tr>\n",
       "      <th>2</th>\n",
       "      <td>27.0</td>\n",
       "      <td>John Holland</td>\n",
       "    </tr>\n",
       "    <tr>\n",
       "      <th>3</th>\n",
       "      <td>22.0</td>\n",
       "      <td>R.J. Hunter</td>\n",
       "    </tr>\n",
       "    <tr>\n",
       "      <th>4</th>\n",
       "      <td>29.0</td>\n",
       "      <td>Jonas Jerebko</td>\n",
       "    </tr>\n",
       "  </tbody>\n",
       "</table>\n",
       "</div>"
      ],
      "text/plain": [
       "    Age           Name\n",
       "0  25.0  Avery Bradley\n",
       "1  25.0    Jae Crowder\n",
       "2  27.0   John Holland\n",
       "3  22.0    R.J. Hunter\n",
       "4  29.0  Jonas Jerebko"
      ]
     },
     "execution_count": 103,
     "metadata": {},
     "output_type": "execute_result"
    }
   ],
   "source": [
    "nba[['Age','Name']].head()"
   ]
  },
  {
   "cell_type": "code",
   "execution_count": 104,
   "metadata": {},
   "outputs": [
    {
     "data": {
      "text/html": [
       "<div>\n",
       "<style scoped>\n",
       "    .dataframe tbody tr th:only-of-type {\n",
       "        vertical-align: middle;\n",
       "    }\n",
       "\n",
       "    .dataframe tbody tr th {\n",
       "        vertical-align: top;\n",
       "    }\n",
       "\n",
       "    .dataframe thead th {\n",
       "        text-align: right;\n",
       "    }\n",
       "</style>\n",
       "<table border=\"1\" class=\"dataframe\">\n",
       "  <thead>\n",
       "    <tr style=\"text-align: right;\">\n",
       "      <th></th>\n",
       "      <th>Name</th>\n",
       "      <th>Team</th>\n",
       "      <th>Salary</th>\n",
       "    </tr>\n",
       "  </thead>\n",
       "  <tbody>\n",
       "    <tr>\n",
       "      <th>0</th>\n",
       "      <td>Avery Bradley</td>\n",
       "      <td>Boston Celtics</td>\n",
       "      <td>7730337.0</td>\n",
       "    </tr>\n",
       "    <tr>\n",
       "      <th>1</th>\n",
       "      <td>Jae Crowder</td>\n",
       "      <td>Boston Celtics</td>\n",
       "      <td>6796117.0</td>\n",
       "    </tr>\n",
       "    <tr>\n",
       "      <th>2</th>\n",
       "      <td>John Holland</td>\n",
       "      <td>Boston Celtics</td>\n",
       "      <td>NaN</td>\n",
       "    </tr>\n",
       "    <tr>\n",
       "      <th>3</th>\n",
       "      <td>R.J. Hunter</td>\n",
       "      <td>Boston Celtics</td>\n",
       "      <td>1148640.0</td>\n",
       "    </tr>\n",
       "    <tr>\n",
       "      <th>4</th>\n",
       "      <td>Jonas Jerebko</td>\n",
       "      <td>Boston Celtics</td>\n",
       "      <td>5000000.0</td>\n",
       "    </tr>\n",
       "    <tr>\n",
       "      <th>...</th>\n",
       "      <td>...</td>\n",
       "      <td>...</td>\n",
       "      <td>...</td>\n",
       "    </tr>\n",
       "    <tr>\n",
       "      <th>453</th>\n",
       "      <td>Shelvin Mack</td>\n",
       "      <td>Utah Jazz</td>\n",
       "      <td>2433333.0</td>\n",
       "    </tr>\n",
       "    <tr>\n",
       "      <th>454</th>\n",
       "      <td>Raul Neto</td>\n",
       "      <td>Utah Jazz</td>\n",
       "      <td>900000.0</td>\n",
       "    </tr>\n",
       "    <tr>\n",
       "      <th>455</th>\n",
       "      <td>Tibor Pleiss</td>\n",
       "      <td>Utah Jazz</td>\n",
       "      <td>2900000.0</td>\n",
       "    </tr>\n",
       "    <tr>\n",
       "      <th>456</th>\n",
       "      <td>Jeff Withey</td>\n",
       "      <td>Utah Jazz</td>\n",
       "      <td>947276.0</td>\n",
       "    </tr>\n",
       "    <tr>\n",
       "      <th>457</th>\n",
       "      <td>NaN</td>\n",
       "      <td>NaN</td>\n",
       "      <td>NaN</td>\n",
       "    </tr>\n",
       "  </tbody>\n",
       "</table>\n",
       "<p>458 rows × 3 columns</p>\n",
       "</div>"
      ],
      "text/plain": [
       "              Name            Team     Salary\n",
       "0    Avery Bradley  Boston Celtics  7730337.0\n",
       "1      Jae Crowder  Boston Celtics  6796117.0\n",
       "2     John Holland  Boston Celtics        NaN\n",
       "3      R.J. Hunter  Boston Celtics  1148640.0\n",
       "4    Jonas Jerebko  Boston Celtics  5000000.0\n",
       "..             ...             ...        ...\n",
       "453   Shelvin Mack       Utah Jazz  2433333.0\n",
       "454      Raul Neto       Utah Jazz   900000.0\n",
       "455   Tibor Pleiss       Utah Jazz  2900000.0\n",
       "456    Jeff Withey       Utah Jazz   947276.0\n",
       "457            NaN             NaN        NaN\n",
       "\n",
       "[458 rows x 3 columns]"
      ]
     },
     "execution_count": 104,
     "metadata": {},
     "output_type": "execute_result"
    }
   ],
   "source": [
    "cols = ['Name','Team', 'Salary']\n",
    "nba[cols]"
   ]
  },
  {
   "cell_type": "code",
   "execution_count": 105,
   "metadata": {},
   "outputs": [
    {
     "data": {
      "text/html": [
       "<div>\n",
       "<style scoped>\n",
       "    .dataframe tbody tr th:only-of-type {\n",
       "        vertical-align: middle;\n",
       "    }\n",
       "\n",
       "    .dataframe tbody tr th {\n",
       "        vertical-align: top;\n",
       "    }\n",
       "\n",
       "    .dataframe thead th {\n",
       "        text-align: right;\n",
       "    }\n",
       "</style>\n",
       "<table border=\"1\" class=\"dataframe\">\n",
       "  <thead>\n",
       "    <tr style=\"text-align: right;\">\n",
       "      <th></th>\n",
       "      <th>Name</th>\n",
       "      <th>Team</th>\n",
       "      <th>Number</th>\n",
       "      <th>Position</th>\n",
       "      <th>Age</th>\n",
       "      <th>Height</th>\n",
       "      <th>Weight</th>\n",
       "      <th>College</th>\n",
       "      <th>Salary</th>\n",
       "      <th>Sport</th>\n",
       "    </tr>\n",
       "  </thead>\n",
       "  <tbody>\n",
       "    <tr>\n",
       "      <th>0</th>\n",
       "      <td>Avery Bradley</td>\n",
       "      <td>Boston Celtics</td>\n",
       "      <td>0.0</td>\n",
       "      <td>PG</td>\n",
       "      <td>25.0</td>\n",
       "      <td>6-2</td>\n",
       "      <td>180.0</td>\n",
       "      <td>Texas</td>\n",
       "      <td>7730337.0</td>\n",
       "      <td>Basketball</td>\n",
       "    </tr>\n",
       "    <tr>\n",
       "      <th>1</th>\n",
       "      <td>Jae Crowder</td>\n",
       "      <td>Boston Celtics</td>\n",
       "      <td>99.0</td>\n",
       "      <td>SF</td>\n",
       "      <td>25.0</td>\n",
       "      <td>6-6</td>\n",
       "      <td>235.0</td>\n",
       "      <td>Marquette</td>\n",
       "      <td>6796117.0</td>\n",
       "      <td>Basketball</td>\n",
       "    </tr>\n",
       "    <tr>\n",
       "      <th>2</th>\n",
       "      <td>John Holland</td>\n",
       "      <td>Boston Celtics</td>\n",
       "      <td>30.0</td>\n",
       "      <td>SG</td>\n",
       "      <td>27.0</td>\n",
       "      <td>6-5</td>\n",
       "      <td>205.0</td>\n",
       "      <td>Boston University</td>\n",
       "      <td>NaN</td>\n",
       "      <td>Basketball</td>\n",
       "    </tr>\n",
       "    <tr>\n",
       "      <th>3</th>\n",
       "      <td>R.J. Hunter</td>\n",
       "      <td>Boston Celtics</td>\n",
       "      <td>28.0</td>\n",
       "      <td>SG</td>\n",
       "      <td>22.0</td>\n",
       "      <td>6-5</td>\n",
       "      <td>185.0</td>\n",
       "      <td>Georgia State</td>\n",
       "      <td>1148640.0</td>\n",
       "      <td>Basketball</td>\n",
       "    </tr>\n",
       "    <tr>\n",
       "      <th>4</th>\n",
       "      <td>Jonas Jerebko</td>\n",
       "      <td>Boston Celtics</td>\n",
       "      <td>8.0</td>\n",
       "      <td>PF</td>\n",
       "      <td>29.0</td>\n",
       "      <td>6-10</td>\n",
       "      <td>231.0</td>\n",
       "      <td>NaN</td>\n",
       "      <td>5000000.0</td>\n",
       "      <td>Basketball</td>\n",
       "    </tr>\n",
       "  </tbody>\n",
       "</table>\n",
       "</div>"
      ],
      "text/plain": [
       "            Name            Team  Number Position   Age Height  Weight  \\\n",
       "0  Avery Bradley  Boston Celtics     0.0       PG  25.0    6-2   180.0   \n",
       "1    Jae Crowder  Boston Celtics    99.0       SF  25.0    6-6   235.0   \n",
       "2   John Holland  Boston Celtics    30.0       SG  27.0    6-5   205.0   \n",
       "3    R.J. Hunter  Boston Celtics    28.0       SG  22.0    6-5   185.0   \n",
       "4  Jonas Jerebko  Boston Celtics     8.0       PF  29.0   6-10   231.0   \n",
       "\n",
       "             College     Salary       Sport  \n",
       "0              Texas  7730337.0  Basketball  \n",
       "1          Marquette  6796117.0  Basketball  \n",
       "2  Boston University        NaN  Basketball  \n",
       "3      Georgia State  1148640.0  Basketball  \n",
       "4                NaN  5000000.0  Basketball  "
      ]
     },
     "execution_count": 105,
     "metadata": {},
     "output_type": "execute_result"
    }
   ],
   "source": [
    "#Definir una nueva columna llamada Sport con el valor \"Basketball\" en cada uno de los renglones.\n",
    "nba['Sport'] = \"Basketball\"\n",
    "nba.head()"
   ]
  },
  {
   "cell_type": "code",
   "execution_count": 106,
   "metadata": {},
   "outputs": [],
   "source": [
    "#método insert() --> insertar un mismo valor para todos los renglones de una nueva columna. \n",
    "# df.insert(posicion, NOMBRE_DE_COLUMNA, valor)\n",
    "\n",
    "nba.insert(3,'Country', 'USA')"
   ]
  },
  {
   "cell_type": "code",
   "execution_count": 107,
   "metadata": {},
   "outputs": [
    {
     "data": {
      "text/html": [
       "<div>\n",
       "<style scoped>\n",
       "    .dataframe tbody tr th:only-of-type {\n",
       "        vertical-align: middle;\n",
       "    }\n",
       "\n",
       "    .dataframe tbody tr th {\n",
       "        vertical-align: top;\n",
       "    }\n",
       "\n",
       "    .dataframe thead th {\n",
       "        text-align: right;\n",
       "    }\n",
       "</style>\n",
       "<table border=\"1\" class=\"dataframe\">\n",
       "  <thead>\n",
       "    <tr style=\"text-align: right;\">\n",
       "      <th></th>\n",
       "      <th>Name</th>\n",
       "      <th>Team</th>\n",
       "      <th>Number</th>\n",
       "      <th>Country</th>\n",
       "      <th>Position</th>\n",
       "      <th>Age</th>\n",
       "      <th>Height</th>\n",
       "      <th>Weight</th>\n",
       "      <th>College</th>\n",
       "      <th>Salary</th>\n",
       "      <th>Sport</th>\n",
       "    </tr>\n",
       "  </thead>\n",
       "  <tbody>\n",
       "    <tr>\n",
       "      <th>0</th>\n",
       "      <td>Avery Bradley</td>\n",
       "      <td>Boston Celtics</td>\n",
       "      <td>0.0</td>\n",
       "      <td>USA</td>\n",
       "      <td>PG</td>\n",
       "      <td>25.0</td>\n",
       "      <td>6-2</td>\n",
       "      <td>180.0</td>\n",
       "      <td>Texas</td>\n",
       "      <td>7730337.0</td>\n",
       "      <td>Basketball</td>\n",
       "    </tr>\n",
       "    <tr>\n",
       "      <th>1</th>\n",
       "      <td>Jae Crowder</td>\n",
       "      <td>Boston Celtics</td>\n",
       "      <td>99.0</td>\n",
       "      <td>USA</td>\n",
       "      <td>SF</td>\n",
       "      <td>25.0</td>\n",
       "      <td>6-6</td>\n",
       "      <td>235.0</td>\n",
       "      <td>Marquette</td>\n",
       "      <td>6796117.0</td>\n",
       "      <td>Basketball</td>\n",
       "    </tr>\n",
       "    <tr>\n",
       "      <th>2</th>\n",
       "      <td>John Holland</td>\n",
       "      <td>Boston Celtics</td>\n",
       "      <td>30.0</td>\n",
       "      <td>USA</td>\n",
       "      <td>SG</td>\n",
       "      <td>27.0</td>\n",
       "      <td>6-5</td>\n",
       "      <td>205.0</td>\n",
       "      <td>Boston University</td>\n",
       "      <td>NaN</td>\n",
       "      <td>Basketball</td>\n",
       "    </tr>\n",
       "    <tr>\n",
       "      <th>3</th>\n",
       "      <td>R.J. Hunter</td>\n",
       "      <td>Boston Celtics</td>\n",
       "      <td>28.0</td>\n",
       "      <td>USA</td>\n",
       "      <td>SG</td>\n",
       "      <td>22.0</td>\n",
       "      <td>6-5</td>\n",
       "      <td>185.0</td>\n",
       "      <td>Georgia State</td>\n",
       "      <td>1148640.0</td>\n",
       "      <td>Basketball</td>\n",
       "    </tr>\n",
       "    <tr>\n",
       "      <th>4</th>\n",
       "      <td>Jonas Jerebko</td>\n",
       "      <td>Boston Celtics</td>\n",
       "      <td>8.0</td>\n",
       "      <td>USA</td>\n",
       "      <td>PF</td>\n",
       "      <td>29.0</td>\n",
       "      <td>6-10</td>\n",
       "      <td>231.0</td>\n",
       "      <td>NaN</td>\n",
       "      <td>5000000.0</td>\n",
       "      <td>Basketball</td>\n",
       "    </tr>\n",
       "  </tbody>\n",
       "</table>\n",
       "</div>"
      ],
      "text/plain": [
       "            Name            Team  Number Country Position   Age Height  \\\n",
       "0  Avery Bradley  Boston Celtics     0.0     USA       PG  25.0    6-2   \n",
       "1    Jae Crowder  Boston Celtics    99.0     USA       SF  25.0    6-6   \n",
       "2   John Holland  Boston Celtics    30.0     USA       SG  27.0    6-5   \n",
       "3    R.J. Hunter  Boston Celtics    28.0     USA       SG  22.0    6-5   \n",
       "4  Jonas Jerebko  Boston Celtics     8.0     USA       PF  29.0   6-10   \n",
       "\n",
       "   Weight            College     Salary       Sport  \n",
       "0   180.0              Texas  7730337.0  Basketball  \n",
       "1   235.0          Marquette  6796117.0  Basketball  \n",
       "2   205.0  Boston University        NaN  Basketball  \n",
       "3   185.0      Georgia State  1148640.0  Basketball  \n",
       "4   231.0                NaN  5000000.0  Basketball  "
      ]
     },
     "execution_count": 107,
     "metadata": {},
     "output_type": "execute_result"
    }
   ],
   "source": [
    "nba.head()"
   ]
  },
  {
   "cell_type": "markdown",
   "metadata": {},
   "source": [
    "## Broadcasting Operations"
   ]
  },
  {
   "cell_type": "code",
   "execution_count": 108,
   "metadata": {},
   "outputs": [
    {
     "data": {
      "text/plain": [
       "0      30.0\n",
       "1      30.0\n",
       "2      32.0\n",
       "3      27.0\n",
       "4      34.0\n",
       "       ... \n",
       "453    31.0\n",
       "454    29.0\n",
       "455    31.0\n",
       "456    31.0\n",
       "457     NaN\n",
       "Name: Age, Length: 458, dtype: float64"
      ]
     },
     "execution_count": 108,
     "metadata": {},
     "output_type": "execute_result"
    }
   ],
   "source": [
    "#Agregar una constante a todos los valores\n",
    "nba.Age.add(5)"
   ]
  },
  {
   "cell_type": "code",
   "execution_count": 110,
   "metadata": {},
   "outputs": [
    {
     "data": {
      "text/plain": [
       "0      30.0\n",
       "1      30.0\n",
       "2      32.0\n",
       "3      27.0\n",
       "4      34.0\n",
       "       ... \n",
       "453    31.0\n",
       "454    29.0\n",
       "455    31.0\n",
       "456    31.0\n",
       "457     NaN\n",
       "Name: Age, Length: 458, dtype: float64"
      ]
     },
     "execution_count": 110,
     "metadata": {},
     "output_type": "execute_result"
    }
   ],
   "source": [
    "nba['Age'] + 5"
   ]
  },
  {
   "cell_type": "code",
   "execution_count": 111,
   "metadata": {},
   "outputs": [
    {
     "data": {
      "text/plain": [
       "0      25.0\n",
       "1      25.0\n",
       "2      27.0\n",
       "3      22.0\n",
       "4      29.0\n",
       "       ... \n",
       "453    26.0\n",
       "454    24.0\n",
       "455    26.0\n",
       "456    26.0\n",
       "457     NaN\n",
       "Name: Age, Length: 458, dtype: float64"
      ]
     },
     "execution_count": 111,
     "metadata": {},
     "output_type": "execute_result"
    }
   ],
   "source": [
    "nba.Age"
   ]
  },
  {
   "cell_type": "code",
   "execution_count": 112,
   "metadata": {},
   "outputs": [
    {
     "data": {
      "text/plain": [
       "0      7230337.0\n",
       "1      6296117.0\n",
       "2            NaN\n",
       "3       648640.0\n",
       "4      4500000.0\n",
       "         ...    \n",
       "453    1933333.0\n",
       "454     400000.0\n",
       "455    2400000.0\n",
       "456     447276.0\n",
       "457          NaN\n",
       "Name: Salary, Length: 458, dtype: float64"
      ]
     },
     "execution_count": 112,
     "metadata": {},
     "output_type": "execute_result"
    }
   ],
   "source": [
    "nba['Salary'].sub(500000)"
   ]
  },
  {
   "cell_type": "code",
   "execution_count": 114,
   "metadata": {},
   "outputs": [
    {
     "data": {
      "text/plain": [
       "0       81.64620\n",
       "1      106.59365\n",
       "2       92.98595\n",
       "3       83.91415\n",
       "4      104.77929\n",
       "         ...    \n",
       "453     92.07877\n",
       "454     81.19261\n",
       "455    116.11904\n",
       "456    104.77929\n",
       "457          NaN\n",
       "Name: Weight, Length: 458, dtype: float64"
      ]
     },
     "execution_count": 114,
     "metadata": {},
     "output_type": "execute_result"
    }
   ],
   "source": [
    "#de peso en libras a kgs\n",
    "nba['Weight'].mul(0.45359)  #multiplicando todos los valores de weight por 0.45xx"
   ]
  },
  {
   "cell_type": "code",
   "execution_count": 115,
   "metadata": {},
   "outputs": [
    {
     "data": {
      "text/html": [
       "<div>\n",
       "<style scoped>\n",
       "    .dataframe tbody tr th:only-of-type {\n",
       "        vertical-align: middle;\n",
       "    }\n",
       "\n",
       "    .dataframe tbody tr th {\n",
       "        vertical-align: top;\n",
       "    }\n",
       "\n",
       "    .dataframe thead th {\n",
       "        text-align: right;\n",
       "    }\n",
       "</style>\n",
       "<table border=\"1\" class=\"dataframe\">\n",
       "  <thead>\n",
       "    <tr style=\"text-align: right;\">\n",
       "      <th></th>\n",
       "      <th>Name</th>\n",
       "      <th>Team</th>\n",
       "      <th>Number</th>\n",
       "      <th>Country</th>\n",
       "      <th>Position</th>\n",
       "      <th>Age</th>\n",
       "      <th>Height</th>\n",
       "      <th>Weight</th>\n",
       "      <th>College</th>\n",
       "      <th>Salary</th>\n",
       "      <th>Sport</th>\n",
       "      <th>Weight in Kilograms</th>\n",
       "    </tr>\n",
       "  </thead>\n",
       "  <tbody>\n",
       "    <tr>\n",
       "      <th>0</th>\n",
       "      <td>Avery Bradley</td>\n",
       "      <td>Boston Celtics</td>\n",
       "      <td>0.0</td>\n",
       "      <td>USA</td>\n",
       "      <td>PG</td>\n",
       "      <td>25.0</td>\n",
       "      <td>6-2</td>\n",
       "      <td>180.0</td>\n",
       "      <td>Texas</td>\n",
       "      <td>7730337.0</td>\n",
       "      <td>Basketball</td>\n",
       "      <td>81.64620</td>\n",
       "    </tr>\n",
       "    <tr>\n",
       "      <th>1</th>\n",
       "      <td>Jae Crowder</td>\n",
       "      <td>Boston Celtics</td>\n",
       "      <td>99.0</td>\n",
       "      <td>USA</td>\n",
       "      <td>SF</td>\n",
       "      <td>25.0</td>\n",
       "      <td>6-6</td>\n",
       "      <td>235.0</td>\n",
       "      <td>Marquette</td>\n",
       "      <td>6796117.0</td>\n",
       "      <td>Basketball</td>\n",
       "      <td>106.59365</td>\n",
       "    </tr>\n",
       "    <tr>\n",
       "      <th>2</th>\n",
       "      <td>John Holland</td>\n",
       "      <td>Boston Celtics</td>\n",
       "      <td>30.0</td>\n",
       "      <td>USA</td>\n",
       "      <td>SG</td>\n",
       "      <td>27.0</td>\n",
       "      <td>6-5</td>\n",
       "      <td>205.0</td>\n",
       "      <td>Boston University</td>\n",
       "      <td>NaN</td>\n",
       "      <td>Basketball</td>\n",
       "      <td>92.98595</td>\n",
       "    </tr>\n",
       "  </tbody>\n",
       "</table>\n",
       "</div>"
      ],
      "text/plain": [
       "            Name            Team  Number Country Position   Age Height  \\\n",
       "0  Avery Bradley  Boston Celtics     0.0     USA       PG  25.0    6-2   \n",
       "1    Jae Crowder  Boston Celtics    99.0     USA       SF  25.0    6-6   \n",
       "2   John Holland  Boston Celtics    30.0     USA       SG  27.0    6-5   \n",
       "\n",
       "   Weight            College     Salary       Sport  Weight in Kilograms  \n",
       "0   180.0              Texas  7730337.0  Basketball             81.64620  \n",
       "1   235.0          Marquette  6796117.0  Basketball            106.59365  \n",
       "2   205.0  Boston University        NaN  Basketball             92.98595  "
      ]
     },
     "execution_count": 115,
     "metadata": {},
     "output_type": "execute_result"
    }
   ],
   "source": [
    "nba['Weight in Kilograms']= nba['Weight'].mul(0.45359)\n",
    "nba.head(3)"
   ]
  },
  {
   "cell_type": "code",
   "execution_count": 116,
   "metadata": {},
   "outputs": [
    {
     "data": {
      "text/html": [
       "<div>\n",
       "<style scoped>\n",
       "    .dataframe tbody tr th:only-of-type {\n",
       "        vertical-align: middle;\n",
       "    }\n",
       "\n",
       "    .dataframe tbody tr th {\n",
       "        vertical-align: top;\n",
       "    }\n",
       "\n",
       "    .dataframe thead th {\n",
       "        text-align: right;\n",
       "    }\n",
       "</style>\n",
       "<table border=\"1\" class=\"dataframe\">\n",
       "  <thead>\n",
       "    <tr style=\"text-align: right;\">\n",
       "      <th></th>\n",
       "      <th>Weight</th>\n",
       "      <th>Age</th>\n",
       "    </tr>\n",
       "  </thead>\n",
       "  <tbody>\n",
       "    <tr>\n",
       "      <th>0</th>\n",
       "      <td>360.0</td>\n",
       "      <td>50.0</td>\n",
       "    </tr>\n",
       "    <tr>\n",
       "      <th>1</th>\n",
       "      <td>470.0</td>\n",
       "      <td>50.0</td>\n",
       "    </tr>\n",
       "    <tr>\n",
       "      <th>2</th>\n",
       "      <td>410.0</td>\n",
       "      <td>54.0</td>\n",
       "    </tr>\n",
       "    <tr>\n",
       "      <th>3</th>\n",
       "      <td>370.0</td>\n",
       "      <td>44.0</td>\n",
       "    </tr>\n",
       "    <tr>\n",
       "      <th>4</th>\n",
       "      <td>462.0</td>\n",
       "      <td>58.0</td>\n",
       "    </tr>\n",
       "    <tr>\n",
       "      <th>...</th>\n",
       "      <td>...</td>\n",
       "      <td>...</td>\n",
       "    </tr>\n",
       "    <tr>\n",
       "      <th>453</th>\n",
       "      <td>406.0</td>\n",
       "      <td>52.0</td>\n",
       "    </tr>\n",
       "    <tr>\n",
       "      <th>454</th>\n",
       "      <td>358.0</td>\n",
       "      <td>48.0</td>\n",
       "    </tr>\n",
       "    <tr>\n",
       "      <th>455</th>\n",
       "      <td>512.0</td>\n",
       "      <td>52.0</td>\n",
       "    </tr>\n",
       "    <tr>\n",
       "      <th>456</th>\n",
       "      <td>462.0</td>\n",
       "      <td>52.0</td>\n",
       "    </tr>\n",
       "    <tr>\n",
       "      <th>457</th>\n",
       "      <td>NaN</td>\n",
       "      <td>NaN</td>\n",
       "    </tr>\n",
       "  </tbody>\n",
       "</table>\n",
       "<p>458 rows × 2 columns</p>\n",
       "</div>"
      ],
      "text/plain": [
       "     Weight   Age\n",
       "0     360.0  50.0\n",
       "1     470.0  50.0\n",
       "2     410.0  54.0\n",
       "3     370.0  44.0\n",
       "4     462.0  58.0\n",
       "..      ...   ...\n",
       "453   406.0  52.0\n",
       "454   358.0  48.0\n",
       "455   512.0  52.0\n",
       "456   462.0  52.0\n",
       "457     NaN   NaN\n",
       "\n",
       "[458 rows x 2 columns]"
      ]
     },
     "execution_count": 116,
     "metadata": {},
     "output_type": "execute_result"
    }
   ],
   "source": [
    "nba[['Weight','Age']]*2"
   ]
  },
  {
   "cell_type": "code",
   "execution_count": 118,
   "metadata": {},
   "outputs": [],
   "source": [
    "nba[['Weight','Age']]= nba[['Weight','Age']].apply(lambda x:x*2)"
   ]
  },
  {
   "cell_type": "code",
   "execution_count": 119,
   "metadata": {},
   "outputs": [
    {
     "data": {
      "text/html": [
       "<div>\n",
       "<style scoped>\n",
       "    .dataframe tbody tr th:only-of-type {\n",
       "        vertical-align: middle;\n",
       "    }\n",
       "\n",
       "    .dataframe tbody tr th {\n",
       "        vertical-align: top;\n",
       "    }\n",
       "\n",
       "    .dataframe thead th {\n",
       "        text-align: right;\n",
       "    }\n",
       "</style>\n",
       "<table border=\"1\" class=\"dataframe\">\n",
       "  <thead>\n",
       "    <tr style=\"text-align: right;\">\n",
       "      <th></th>\n",
       "      <th>Name</th>\n",
       "      <th>Team</th>\n",
       "      <th>Number</th>\n",
       "      <th>Country</th>\n",
       "      <th>Position</th>\n",
       "      <th>Age</th>\n",
       "      <th>Height</th>\n",
       "      <th>Weight</th>\n",
       "      <th>College</th>\n",
       "      <th>Salary</th>\n",
       "      <th>Sport</th>\n",
       "      <th>Weight in Kilograms</th>\n",
       "    </tr>\n",
       "  </thead>\n",
       "  <tbody>\n",
       "    <tr>\n",
       "      <th>0</th>\n",
       "      <td>Avery Bradley</td>\n",
       "      <td>Boston Celtics</td>\n",
       "      <td>0.0</td>\n",
       "      <td>USA</td>\n",
       "      <td>PG</td>\n",
       "      <td>50.0</td>\n",
       "      <td>6-2</td>\n",
       "      <td>360.0</td>\n",
       "      <td>Texas</td>\n",
       "      <td>7730337.0</td>\n",
       "      <td>Basketball</td>\n",
       "      <td>81.64620</td>\n",
       "    </tr>\n",
       "    <tr>\n",
       "      <th>1</th>\n",
       "      <td>Jae Crowder</td>\n",
       "      <td>Boston Celtics</td>\n",
       "      <td>99.0</td>\n",
       "      <td>USA</td>\n",
       "      <td>SF</td>\n",
       "      <td>50.0</td>\n",
       "      <td>6-6</td>\n",
       "      <td>470.0</td>\n",
       "      <td>Marquette</td>\n",
       "      <td>6796117.0</td>\n",
       "      <td>Basketball</td>\n",
       "      <td>106.59365</td>\n",
       "    </tr>\n",
       "    <tr>\n",
       "      <th>2</th>\n",
       "      <td>John Holland</td>\n",
       "      <td>Boston Celtics</td>\n",
       "      <td>30.0</td>\n",
       "      <td>USA</td>\n",
       "      <td>SG</td>\n",
       "      <td>54.0</td>\n",
       "      <td>6-5</td>\n",
       "      <td>410.0</td>\n",
       "      <td>Boston University</td>\n",
       "      <td>NaN</td>\n",
       "      <td>Basketball</td>\n",
       "      <td>92.98595</td>\n",
       "    </tr>\n",
       "    <tr>\n",
       "      <th>3</th>\n",
       "      <td>R.J. Hunter</td>\n",
       "      <td>Boston Celtics</td>\n",
       "      <td>28.0</td>\n",
       "      <td>USA</td>\n",
       "      <td>SG</td>\n",
       "      <td>44.0</td>\n",
       "      <td>6-5</td>\n",
       "      <td>370.0</td>\n",
       "      <td>Georgia State</td>\n",
       "      <td>1148640.0</td>\n",
       "      <td>Basketball</td>\n",
       "      <td>83.91415</td>\n",
       "    </tr>\n",
       "    <tr>\n",
       "      <th>4</th>\n",
       "      <td>Jonas Jerebko</td>\n",
       "      <td>Boston Celtics</td>\n",
       "      <td>8.0</td>\n",
       "      <td>USA</td>\n",
       "      <td>PF</td>\n",
       "      <td>58.0</td>\n",
       "      <td>6-10</td>\n",
       "      <td>462.0</td>\n",
       "      <td>NaN</td>\n",
       "      <td>5000000.0</td>\n",
       "      <td>Basketball</td>\n",
       "      <td>104.77929</td>\n",
       "    </tr>\n",
       "  </tbody>\n",
       "</table>\n",
       "</div>"
      ],
      "text/plain": [
       "            Name            Team  Number Country Position   Age Height  \\\n",
       "0  Avery Bradley  Boston Celtics     0.0     USA       PG  50.0    6-2   \n",
       "1    Jae Crowder  Boston Celtics    99.0     USA       SF  50.0    6-6   \n",
       "2   John Holland  Boston Celtics    30.0     USA       SG  54.0    6-5   \n",
       "3    R.J. Hunter  Boston Celtics    28.0     USA       SG  44.0    6-5   \n",
       "4  Jonas Jerebko  Boston Celtics     8.0     USA       PF  58.0   6-10   \n",
       "\n",
       "   Weight            College     Salary       Sport  Weight in Kilograms  \n",
       "0   360.0              Texas  7730337.0  Basketball             81.64620  \n",
       "1   470.0          Marquette  6796117.0  Basketball            106.59365  \n",
       "2   410.0  Boston University        NaN  Basketball             92.98595  \n",
       "3   370.0      Georgia State  1148640.0  Basketball             83.91415  \n",
       "4   462.0                NaN  5000000.0  Basketball            104.77929  "
      ]
     },
     "execution_count": 119,
     "metadata": {},
     "output_type": "execute_result"
    }
   ],
   "source": [
    "nba.head()"
   ]
  },
  {
   "cell_type": "code",
   "execution_count": 120,
   "metadata": {},
   "outputs": [],
   "source": [
    "mask = nba['Position']==\"PG\""
   ]
  },
  {
   "cell_type": "code",
   "execution_count": 121,
   "metadata": {},
   "outputs": [
    {
     "data": {
      "text/html": [
       "<div>\n",
       "<style scoped>\n",
       "    .dataframe tbody tr th:only-of-type {\n",
       "        vertical-align: middle;\n",
       "    }\n",
       "\n",
       "    .dataframe tbody tr th {\n",
       "        vertical-align: top;\n",
       "    }\n",
       "\n",
       "    .dataframe thead th {\n",
       "        text-align: right;\n",
       "    }\n",
       "</style>\n",
       "<table border=\"1\" class=\"dataframe\">\n",
       "  <thead>\n",
       "    <tr style=\"text-align: right;\">\n",
       "      <th></th>\n",
       "      <th>Name</th>\n",
       "      <th>Team</th>\n",
       "      <th>Number</th>\n",
       "      <th>Country</th>\n",
       "      <th>Position</th>\n",
       "      <th>Age</th>\n",
       "      <th>Height</th>\n",
       "      <th>Weight</th>\n",
       "      <th>College</th>\n",
       "      <th>Salary</th>\n",
       "      <th>Sport</th>\n",
       "      <th>Weight in Kilograms</th>\n",
       "    </tr>\n",
       "  </thead>\n",
       "  <tbody>\n",
       "    <tr>\n",
       "      <th>0</th>\n",
       "      <td>Avery Bradley</td>\n",
       "      <td>Boston Celtics</td>\n",
       "      <td>0.0</td>\n",
       "      <td>USA</td>\n",
       "      <td>PG</td>\n",
       "      <td>50.0</td>\n",
       "      <td>6-2</td>\n",
       "      <td>360.0</td>\n",
       "      <td>Texas</td>\n",
       "      <td>7730337.0</td>\n",
       "      <td>Basketball</td>\n",
       "      <td>81.64620</td>\n",
       "    </tr>\n",
       "    <tr>\n",
       "      <th>8</th>\n",
       "      <td>Terry Rozier</td>\n",
       "      <td>Boston Celtics</td>\n",
       "      <td>12.0</td>\n",
       "      <td>USA</td>\n",
       "      <td>PG</td>\n",
       "      <td>44.0</td>\n",
       "      <td>6-2</td>\n",
       "      <td>380.0</td>\n",
       "      <td>Louisville</td>\n",
       "      <td>1824360.0</td>\n",
       "      <td>Basketball</td>\n",
       "      <td>86.18210</td>\n",
       "    </tr>\n",
       "    <tr>\n",
       "      <th>9</th>\n",
       "      <td>Marcus Smart</td>\n",
       "      <td>Boston Celtics</td>\n",
       "      <td>36.0</td>\n",
       "      <td>USA</td>\n",
       "      <td>PG</td>\n",
       "      <td>44.0</td>\n",
       "      <td>6-4</td>\n",
       "      <td>440.0</td>\n",
       "      <td>Oklahoma State</td>\n",
       "      <td>3431040.0</td>\n",
       "      <td>Basketball</td>\n",
       "      <td>99.78980</td>\n",
       "    </tr>\n",
       "    <tr>\n",
       "      <th>11</th>\n",
       "      <td>Isaiah Thomas</td>\n",
       "      <td>Boston Celtics</td>\n",
       "      <td>4.0</td>\n",
       "      <td>USA</td>\n",
       "      <td>PG</td>\n",
       "      <td>54.0</td>\n",
       "      <td>5-9</td>\n",
       "      <td>370.0</td>\n",
       "      <td>Washington</td>\n",
       "      <td>6912869.0</td>\n",
       "      <td>Basketball</td>\n",
       "      <td>83.91415</td>\n",
       "    </tr>\n",
       "    <tr>\n",
       "      <th>19</th>\n",
       "      <td>Jarrett Jack</td>\n",
       "      <td>Brooklyn Nets</td>\n",
       "      <td>2.0</td>\n",
       "      <td>USA</td>\n",
       "      <td>PG</td>\n",
       "      <td>64.0</td>\n",
       "      <td>6-3</td>\n",
       "      <td>400.0</td>\n",
       "      <td>Georgia Tech</td>\n",
       "      <td>6300000.0</td>\n",
       "      <td>Basketball</td>\n",
       "      <td>90.71800</td>\n",
       "    </tr>\n",
       "    <tr>\n",
       "      <th>...</th>\n",
       "      <td>...</td>\n",
       "      <td>...</td>\n",
       "      <td>...</td>\n",
       "      <td>...</td>\n",
       "      <td>...</td>\n",
       "      <td>...</td>\n",
       "      <td>...</td>\n",
       "      <td>...</td>\n",
       "      <td>...</td>\n",
       "      <td>...</td>\n",
       "      <td>...</td>\n",
       "      <td>...</td>\n",
       "    </tr>\n",
       "    <tr>\n",
       "      <th>440</th>\n",
       "      <td>Brian Roberts</td>\n",
       "      <td>Portland Trail Blazers</td>\n",
       "      <td>2.0</td>\n",
       "      <td>USA</td>\n",
       "      <td>PG</td>\n",
       "      <td>60.0</td>\n",
       "      <td>6-1</td>\n",
       "      <td>346.0</td>\n",
       "      <td>Dayton</td>\n",
       "      <td>2854940.0</td>\n",
       "      <td>Basketball</td>\n",
       "      <td>78.47107</td>\n",
       "    </tr>\n",
       "    <tr>\n",
       "      <th>443</th>\n",
       "      <td>Trey Burke</td>\n",
       "      <td>Utah Jazz</td>\n",
       "      <td>3.0</td>\n",
       "      <td>USA</td>\n",
       "      <td>PG</td>\n",
       "      <td>46.0</td>\n",
       "      <td>6-1</td>\n",
       "      <td>382.0</td>\n",
       "      <td>Michigan</td>\n",
       "      <td>2658240.0</td>\n",
       "      <td>Basketball</td>\n",
       "      <td>86.63569</td>\n",
       "    </tr>\n",
       "    <tr>\n",
       "      <th>445</th>\n",
       "      <td>Dante Exum</td>\n",
       "      <td>Utah Jazz</td>\n",
       "      <td>11.0</td>\n",
       "      <td>USA</td>\n",
       "      <td>PG</td>\n",
       "      <td>40.0</td>\n",
       "      <td>6-6</td>\n",
       "      <td>380.0</td>\n",
       "      <td>NaN</td>\n",
       "      <td>3777720.0</td>\n",
       "      <td>Basketball</td>\n",
       "      <td>86.18210</td>\n",
       "    </tr>\n",
       "    <tr>\n",
       "      <th>453</th>\n",
       "      <td>Shelvin Mack</td>\n",
       "      <td>Utah Jazz</td>\n",
       "      <td>8.0</td>\n",
       "      <td>USA</td>\n",
       "      <td>PG</td>\n",
       "      <td>52.0</td>\n",
       "      <td>6-3</td>\n",
       "      <td>406.0</td>\n",
       "      <td>Butler</td>\n",
       "      <td>2433333.0</td>\n",
       "      <td>Basketball</td>\n",
       "      <td>92.07877</td>\n",
       "    </tr>\n",
       "    <tr>\n",
       "      <th>454</th>\n",
       "      <td>Raul Neto</td>\n",
       "      <td>Utah Jazz</td>\n",
       "      <td>25.0</td>\n",
       "      <td>USA</td>\n",
       "      <td>PG</td>\n",
       "      <td>48.0</td>\n",
       "      <td>6-1</td>\n",
       "      <td>358.0</td>\n",
       "      <td>NaN</td>\n",
       "      <td>900000.0</td>\n",
       "      <td>Basketball</td>\n",
       "      <td>81.19261</td>\n",
       "    </tr>\n",
       "  </tbody>\n",
       "</table>\n",
       "<p>92 rows × 12 columns</p>\n",
       "</div>"
      ],
      "text/plain": [
       "              Name                    Team  Number Country Position   Age  \\\n",
       "0    Avery Bradley          Boston Celtics     0.0     USA       PG  50.0   \n",
       "8     Terry Rozier          Boston Celtics    12.0     USA       PG  44.0   \n",
       "9     Marcus Smart          Boston Celtics    36.0     USA       PG  44.0   \n",
       "11   Isaiah Thomas          Boston Celtics     4.0     USA       PG  54.0   \n",
       "19    Jarrett Jack           Brooklyn Nets     2.0     USA       PG  64.0   \n",
       "..             ...                     ...     ...     ...      ...   ...   \n",
       "440  Brian Roberts  Portland Trail Blazers     2.0     USA       PG  60.0   \n",
       "443     Trey Burke               Utah Jazz     3.0     USA       PG  46.0   \n",
       "445     Dante Exum               Utah Jazz    11.0     USA       PG  40.0   \n",
       "453   Shelvin Mack               Utah Jazz     8.0     USA       PG  52.0   \n",
       "454      Raul Neto               Utah Jazz    25.0     USA       PG  48.0   \n",
       "\n",
       "    Height  Weight         College     Salary       Sport  Weight in Kilograms  \n",
       "0      6-2   360.0           Texas  7730337.0  Basketball             81.64620  \n",
       "8      6-2   380.0      Louisville  1824360.0  Basketball             86.18210  \n",
       "9      6-4   440.0  Oklahoma State  3431040.0  Basketball             99.78980  \n",
       "11     5-9   370.0      Washington  6912869.0  Basketball             83.91415  \n",
       "19     6-3   400.0    Georgia Tech  6300000.0  Basketball             90.71800  \n",
       "..     ...     ...             ...        ...         ...                  ...  \n",
       "440    6-1   346.0          Dayton  2854940.0  Basketball             78.47107  \n",
       "443    6-1   382.0        Michigan  2658240.0  Basketball             86.63569  \n",
       "445    6-6   380.0             NaN  3777720.0  Basketball             86.18210  \n",
       "453    6-3   406.0          Butler  2433333.0  Basketball             92.07877  \n",
       "454    6-1   358.0             NaN   900000.0  Basketball             81.19261  \n",
       "\n",
       "[92 rows x 12 columns]"
      ]
     },
     "execution_count": 121,
     "metadata": {},
     "output_type": "execute_result"
    }
   ],
   "source": [
    "nba[mask]"
   ]
  },
  {
   "cell_type": "code",
   "execution_count": 122,
   "metadata": {},
   "outputs": [
    {
     "data": {
      "text/html": [
       "<div>\n",
       "<style scoped>\n",
       "    .dataframe tbody tr th:only-of-type {\n",
       "        vertical-align: middle;\n",
       "    }\n",
       "\n",
       "    .dataframe tbody tr th {\n",
       "        vertical-align: top;\n",
       "    }\n",
       "\n",
       "    .dataframe thead th {\n",
       "        text-align: right;\n",
       "    }\n",
       "</style>\n",
       "<table border=\"1\" class=\"dataframe\">\n",
       "  <thead>\n",
       "    <tr style=\"text-align: right;\">\n",
       "      <th></th>\n",
       "      <th>Name</th>\n",
       "      <th>Team</th>\n",
       "      <th>Number</th>\n",
       "      <th>Country</th>\n",
       "      <th>Position</th>\n",
       "      <th>Age</th>\n",
       "      <th>Height</th>\n",
       "      <th>Weight</th>\n",
       "      <th>College</th>\n",
       "      <th>Salary</th>\n",
       "      <th>Sport</th>\n",
       "      <th>Weight in Kilograms</th>\n",
       "    </tr>\n",
       "  </thead>\n",
       "  <tbody>\n",
       "    <tr>\n",
       "      <th>0</th>\n",
       "      <td>Avery Bradley</td>\n",
       "      <td>Boston Celtics</td>\n",
       "      <td>0.0</td>\n",
       "      <td>USA</td>\n",
       "      <td>PG</td>\n",
       "      <td>50.0</td>\n",
       "      <td>6-2</td>\n",
       "      <td>360.0</td>\n",
       "      <td>Texas</td>\n",
       "      <td>7730337.0</td>\n",
       "      <td>Basketball</td>\n",
       "      <td>81.64620</td>\n",
       "    </tr>\n",
       "    <tr>\n",
       "      <th>8</th>\n",
       "      <td>Terry Rozier</td>\n",
       "      <td>Boston Celtics</td>\n",
       "      <td>12.0</td>\n",
       "      <td>USA</td>\n",
       "      <td>PG</td>\n",
       "      <td>44.0</td>\n",
       "      <td>6-2</td>\n",
       "      <td>380.0</td>\n",
       "      <td>Louisville</td>\n",
       "      <td>1824360.0</td>\n",
       "      <td>Basketball</td>\n",
       "      <td>86.18210</td>\n",
       "    </tr>\n",
       "    <tr>\n",
       "      <th>9</th>\n",
       "      <td>Marcus Smart</td>\n",
       "      <td>Boston Celtics</td>\n",
       "      <td>36.0</td>\n",
       "      <td>USA</td>\n",
       "      <td>PG</td>\n",
       "      <td>44.0</td>\n",
       "      <td>6-4</td>\n",
       "      <td>440.0</td>\n",
       "      <td>Oklahoma State</td>\n",
       "      <td>3431040.0</td>\n",
       "      <td>Basketball</td>\n",
       "      <td>99.78980</td>\n",
       "    </tr>\n",
       "    <tr>\n",
       "      <th>11</th>\n",
       "      <td>Isaiah Thomas</td>\n",
       "      <td>Boston Celtics</td>\n",
       "      <td>4.0</td>\n",
       "      <td>USA</td>\n",
       "      <td>PG</td>\n",
       "      <td>54.0</td>\n",
       "      <td>5-9</td>\n",
       "      <td>370.0</td>\n",
       "      <td>Washington</td>\n",
       "      <td>6912869.0</td>\n",
       "      <td>Basketball</td>\n",
       "      <td>83.91415</td>\n",
       "    </tr>\n",
       "    <tr>\n",
       "      <th>19</th>\n",
       "      <td>Jarrett Jack</td>\n",
       "      <td>Brooklyn Nets</td>\n",
       "      <td>2.0</td>\n",
       "      <td>USA</td>\n",
       "      <td>PG</td>\n",
       "      <td>64.0</td>\n",
       "      <td>6-3</td>\n",
       "      <td>400.0</td>\n",
       "      <td>Georgia Tech</td>\n",
       "      <td>6300000.0</td>\n",
       "      <td>Basketball</td>\n",
       "      <td>90.71800</td>\n",
       "    </tr>\n",
       "    <tr>\n",
       "      <th>...</th>\n",
       "      <td>...</td>\n",
       "      <td>...</td>\n",
       "      <td>...</td>\n",
       "      <td>...</td>\n",
       "      <td>...</td>\n",
       "      <td>...</td>\n",
       "      <td>...</td>\n",
       "      <td>...</td>\n",
       "      <td>...</td>\n",
       "      <td>...</td>\n",
       "      <td>...</td>\n",
       "      <td>...</td>\n",
       "    </tr>\n",
       "    <tr>\n",
       "      <th>440</th>\n",
       "      <td>Brian Roberts</td>\n",
       "      <td>Portland Trail Blazers</td>\n",
       "      <td>2.0</td>\n",
       "      <td>USA</td>\n",
       "      <td>PG</td>\n",
       "      <td>60.0</td>\n",
       "      <td>6-1</td>\n",
       "      <td>346.0</td>\n",
       "      <td>Dayton</td>\n",
       "      <td>2854940.0</td>\n",
       "      <td>Basketball</td>\n",
       "      <td>78.47107</td>\n",
       "    </tr>\n",
       "    <tr>\n",
       "      <th>443</th>\n",
       "      <td>Trey Burke</td>\n",
       "      <td>Utah Jazz</td>\n",
       "      <td>3.0</td>\n",
       "      <td>USA</td>\n",
       "      <td>PG</td>\n",
       "      <td>46.0</td>\n",
       "      <td>6-1</td>\n",
       "      <td>382.0</td>\n",
       "      <td>Michigan</td>\n",
       "      <td>2658240.0</td>\n",
       "      <td>Basketball</td>\n",
       "      <td>86.63569</td>\n",
       "    </tr>\n",
       "    <tr>\n",
       "      <th>445</th>\n",
       "      <td>Dante Exum</td>\n",
       "      <td>Utah Jazz</td>\n",
       "      <td>11.0</td>\n",
       "      <td>USA</td>\n",
       "      <td>PG</td>\n",
       "      <td>40.0</td>\n",
       "      <td>6-6</td>\n",
       "      <td>380.0</td>\n",
       "      <td>NaN</td>\n",
       "      <td>3777720.0</td>\n",
       "      <td>Basketball</td>\n",
       "      <td>86.18210</td>\n",
       "    </tr>\n",
       "    <tr>\n",
       "      <th>453</th>\n",
       "      <td>Shelvin Mack</td>\n",
       "      <td>Utah Jazz</td>\n",
       "      <td>8.0</td>\n",
       "      <td>USA</td>\n",
       "      <td>PG</td>\n",
       "      <td>52.0</td>\n",
       "      <td>6-3</td>\n",
       "      <td>406.0</td>\n",
       "      <td>Butler</td>\n",
       "      <td>2433333.0</td>\n",
       "      <td>Basketball</td>\n",
       "      <td>92.07877</td>\n",
       "    </tr>\n",
       "    <tr>\n",
       "      <th>454</th>\n",
       "      <td>Raul Neto</td>\n",
       "      <td>Utah Jazz</td>\n",
       "      <td>25.0</td>\n",
       "      <td>USA</td>\n",
       "      <td>PG</td>\n",
       "      <td>48.0</td>\n",
       "      <td>6-1</td>\n",
       "      <td>358.0</td>\n",
       "      <td>NaN</td>\n",
       "      <td>900000.0</td>\n",
       "      <td>Basketball</td>\n",
       "      <td>81.19261</td>\n",
       "    </tr>\n",
       "  </tbody>\n",
       "</table>\n",
       "<p>92 rows × 12 columns</p>\n",
       "</div>"
      ],
      "text/plain": [
       "              Name                    Team  Number Country Position   Age  \\\n",
       "0    Avery Bradley          Boston Celtics     0.0     USA       PG  50.0   \n",
       "8     Terry Rozier          Boston Celtics    12.0     USA       PG  44.0   \n",
       "9     Marcus Smart          Boston Celtics    36.0     USA       PG  44.0   \n",
       "11   Isaiah Thomas          Boston Celtics     4.0     USA       PG  54.0   \n",
       "19    Jarrett Jack           Brooklyn Nets     2.0     USA       PG  64.0   \n",
       "..             ...                     ...     ...     ...      ...   ...   \n",
       "440  Brian Roberts  Portland Trail Blazers     2.0     USA       PG  60.0   \n",
       "443     Trey Burke               Utah Jazz     3.0     USA       PG  46.0   \n",
       "445     Dante Exum               Utah Jazz    11.0     USA       PG  40.0   \n",
       "453   Shelvin Mack               Utah Jazz     8.0     USA       PG  52.0   \n",
       "454      Raul Neto               Utah Jazz    25.0     USA       PG  48.0   \n",
       "\n",
       "    Height  Weight         College     Salary       Sport  Weight in Kilograms  \n",
       "0      6-2   360.0           Texas  7730337.0  Basketball             81.64620  \n",
       "8      6-2   380.0      Louisville  1824360.0  Basketball             86.18210  \n",
       "9      6-4   440.0  Oklahoma State  3431040.0  Basketball             99.78980  \n",
       "11     5-9   370.0      Washington  6912869.0  Basketball             83.91415  \n",
       "19     6-3   400.0    Georgia Tech  6300000.0  Basketball             90.71800  \n",
       "..     ...     ...             ...        ...         ...                  ...  \n",
       "440    6-1   346.0          Dayton  2854940.0  Basketball             78.47107  \n",
       "443    6-1   382.0        Michigan  2658240.0  Basketball             86.63569  \n",
       "445    6-6   380.0             NaN  3777720.0  Basketball             86.18210  \n",
       "453    6-3   406.0          Butler  2433333.0  Basketball             92.07877  \n",
       "454    6-1   358.0             NaN   900000.0  Basketball             81.19261  \n",
       "\n",
       "[92 rows x 12 columns]"
      ]
     },
     "execution_count": 122,
     "metadata": {},
     "output_type": "execute_result"
    }
   ],
   "source": [
    "nba[nba['Position']==\"PG\"]"
   ]
  },
  {
   "cell_type": "code",
   "execution_count": 123,
   "metadata": {},
   "outputs": [],
   "source": [
    "#want extraer a los de posición \"PG\" y con edad > 44\n",
    "c1 = nba['Position']==\"PG\"\n",
    "c2 = nba['Age'] > 44"
   ]
  },
  {
   "cell_type": "code",
   "execution_count": 125,
   "metadata": {},
   "outputs": [
    {
     "data": {
      "text/plain": [
       "0       True\n",
       "1       True\n",
       "2       True\n",
       "3      False\n",
       "4       True\n",
       "       ...  \n",
       "453     True\n",
       "454     True\n",
       "455     True\n",
       "456     True\n",
       "457    False\n",
       "Name: Age, Length: 458, dtype: bool"
      ]
     },
     "execution_count": 125,
     "metadata": {},
     "output_type": "execute_result"
    }
   ],
   "source": [
    "c2"
   ]
  },
  {
   "cell_type": "code",
   "execution_count": 130,
   "metadata": {},
   "outputs": [
    {
     "data": {
      "text/html": [
       "<div>\n",
       "<style scoped>\n",
       "    .dataframe tbody tr th:only-of-type {\n",
       "        vertical-align: middle;\n",
       "    }\n",
       "\n",
       "    .dataframe tbody tr th {\n",
       "        vertical-align: top;\n",
       "    }\n",
       "\n",
       "    .dataframe thead th {\n",
       "        text-align: right;\n",
       "    }\n",
       "</style>\n",
       "<table border=\"1\" class=\"dataframe\">\n",
       "  <thead>\n",
       "    <tr style=\"text-align: right;\">\n",
       "      <th></th>\n",
       "      <th>Name</th>\n",
       "      <th>Team</th>\n",
       "      <th>Number</th>\n",
       "      <th>Country</th>\n",
       "      <th>Position</th>\n",
       "      <th>Age</th>\n",
       "      <th>Height</th>\n",
       "      <th>Weight</th>\n",
       "      <th>College</th>\n",
       "      <th>Salary</th>\n",
       "      <th>Sport</th>\n",
       "      <th>Weight in Kilograms</th>\n",
       "    </tr>\n",
       "  </thead>\n",
       "  <tbody>\n",
       "    <tr>\n",
       "      <th>0</th>\n",
       "      <td>Avery Bradley</td>\n",
       "      <td>Boston Celtics</td>\n",
       "      <td>0.0</td>\n",
       "      <td>USA</td>\n",
       "      <td>PG</td>\n",
       "      <td>50.0</td>\n",
       "      <td>6-2</td>\n",
       "      <td>360.0</td>\n",
       "      <td>Texas</td>\n",
       "      <td>7730337.0</td>\n",
       "      <td>Basketball</td>\n",
       "      <td>81.64620</td>\n",
       "    </tr>\n",
       "    <tr>\n",
       "      <th>11</th>\n",
       "      <td>Isaiah Thomas</td>\n",
       "      <td>Boston Celtics</td>\n",
       "      <td>4.0</td>\n",
       "      <td>USA</td>\n",
       "      <td>PG</td>\n",
       "      <td>54.0</td>\n",
       "      <td>5-9</td>\n",
       "      <td>370.0</td>\n",
       "      <td>Washington</td>\n",
       "      <td>6912869.0</td>\n",
       "      <td>Basketball</td>\n",
       "      <td>83.91415</td>\n",
       "    </tr>\n",
       "    <tr>\n",
       "      <th>19</th>\n",
       "      <td>Jarrett Jack</td>\n",
       "      <td>Brooklyn Nets</td>\n",
       "      <td>2.0</td>\n",
       "      <td>USA</td>\n",
       "      <td>PG</td>\n",
       "      <td>64.0</td>\n",
       "      <td>6-3</td>\n",
       "      <td>400.0</td>\n",
       "      <td>Georgia Tech</td>\n",
       "      <td>6300000.0</td>\n",
       "      <td>Basketball</td>\n",
       "      <td>90.71800</td>\n",
       "    </tr>\n",
       "    <tr>\n",
       "      <th>22</th>\n",
       "      <td>Shane Larkin</td>\n",
       "      <td>Brooklyn Nets</td>\n",
       "      <td>0.0</td>\n",
       "      <td>USA</td>\n",
       "      <td>PG</td>\n",
       "      <td>46.0</td>\n",
       "      <td>5-11</td>\n",
       "      <td>350.0</td>\n",
       "      <td>Miami (FL)</td>\n",
       "      <td>1500000.0</td>\n",
       "      <td>Basketball</td>\n",
       "      <td>79.37825</td>\n",
       "    </tr>\n",
       "    <tr>\n",
       "      <th>28</th>\n",
       "      <td>Donald Sloan</td>\n",
       "      <td>Brooklyn Nets</td>\n",
       "      <td>15.0</td>\n",
       "      <td>USA</td>\n",
       "      <td>PG</td>\n",
       "      <td>56.0</td>\n",
       "      <td>6-3</td>\n",
       "      <td>410.0</td>\n",
       "      <td>Texas A&amp;M</td>\n",
       "      <td>947276.0</td>\n",
       "      <td>Basketball</td>\n",
       "      <td>92.98595</td>\n",
       "    </tr>\n",
       "    <tr>\n",
       "      <th>...</th>\n",
       "      <td>...</td>\n",
       "      <td>...</td>\n",
       "      <td>...</td>\n",
       "      <td>...</td>\n",
       "      <td>...</td>\n",
       "      <td>...</td>\n",
       "      <td>...</td>\n",
       "      <td>...</td>\n",
       "      <td>...</td>\n",
       "      <td>...</td>\n",
       "      <td>...</td>\n",
       "      <td>...</td>\n",
       "    </tr>\n",
       "    <tr>\n",
       "      <th>436</th>\n",
       "      <td>Damian Lillard</td>\n",
       "      <td>Portland Trail Blazers</td>\n",
       "      <td>0.0</td>\n",
       "      <td>USA</td>\n",
       "      <td>PG</td>\n",
       "      <td>50.0</td>\n",
       "      <td>6-3</td>\n",
       "      <td>390.0</td>\n",
       "      <td>Weber State</td>\n",
       "      <td>4236287.0</td>\n",
       "      <td>Basketball</td>\n",
       "      <td>88.45005</td>\n",
       "    </tr>\n",
       "    <tr>\n",
       "      <th>440</th>\n",
       "      <td>Brian Roberts</td>\n",
       "      <td>Portland Trail Blazers</td>\n",
       "      <td>2.0</td>\n",
       "      <td>USA</td>\n",
       "      <td>PG</td>\n",
       "      <td>60.0</td>\n",
       "      <td>6-1</td>\n",
       "      <td>346.0</td>\n",
       "      <td>Dayton</td>\n",
       "      <td>2854940.0</td>\n",
       "      <td>Basketball</td>\n",
       "      <td>78.47107</td>\n",
       "    </tr>\n",
       "    <tr>\n",
       "      <th>443</th>\n",
       "      <td>Trey Burke</td>\n",
       "      <td>Utah Jazz</td>\n",
       "      <td>3.0</td>\n",
       "      <td>USA</td>\n",
       "      <td>PG</td>\n",
       "      <td>46.0</td>\n",
       "      <td>6-1</td>\n",
       "      <td>382.0</td>\n",
       "      <td>Michigan</td>\n",
       "      <td>2658240.0</td>\n",
       "      <td>Basketball</td>\n",
       "      <td>86.63569</td>\n",
       "    </tr>\n",
       "    <tr>\n",
       "      <th>453</th>\n",
       "      <td>Shelvin Mack</td>\n",
       "      <td>Utah Jazz</td>\n",
       "      <td>8.0</td>\n",
       "      <td>USA</td>\n",
       "      <td>PG</td>\n",
       "      <td>52.0</td>\n",
       "      <td>6-3</td>\n",
       "      <td>406.0</td>\n",
       "      <td>Butler</td>\n",
       "      <td>2433333.0</td>\n",
       "      <td>Basketball</td>\n",
       "      <td>92.07877</td>\n",
       "    </tr>\n",
       "    <tr>\n",
       "      <th>454</th>\n",
       "      <td>Raul Neto</td>\n",
       "      <td>Utah Jazz</td>\n",
       "      <td>25.0</td>\n",
       "      <td>USA</td>\n",
       "      <td>PG</td>\n",
       "      <td>48.0</td>\n",
       "      <td>6-1</td>\n",
       "      <td>358.0</td>\n",
       "      <td>NaN</td>\n",
       "      <td>900000.0</td>\n",
       "      <td>Basketball</td>\n",
       "      <td>81.19261</td>\n",
       "    </tr>\n",
       "  </tbody>\n",
       "</table>\n",
       "<p>81 rows × 12 columns</p>\n",
       "</div>"
      ],
      "text/plain": [
       "               Name                    Team  Number Country Position   Age  \\\n",
       "0     Avery Bradley          Boston Celtics     0.0     USA       PG  50.0   \n",
       "11    Isaiah Thomas          Boston Celtics     4.0     USA       PG  54.0   \n",
       "19     Jarrett Jack           Brooklyn Nets     2.0     USA       PG  64.0   \n",
       "22     Shane Larkin           Brooklyn Nets     0.0     USA       PG  46.0   \n",
       "28     Donald Sloan           Brooklyn Nets    15.0     USA       PG  56.0   \n",
       "..              ...                     ...     ...     ...      ...   ...   \n",
       "436  Damian Lillard  Portland Trail Blazers     0.0     USA       PG  50.0   \n",
       "440   Brian Roberts  Portland Trail Blazers     2.0     USA       PG  60.0   \n",
       "443      Trey Burke               Utah Jazz     3.0     USA       PG  46.0   \n",
       "453    Shelvin Mack               Utah Jazz     8.0     USA       PG  52.0   \n",
       "454       Raul Neto               Utah Jazz    25.0     USA       PG  48.0   \n",
       "\n",
       "    Height  Weight       College     Salary       Sport  Weight in Kilograms  \n",
       "0      6-2   360.0         Texas  7730337.0  Basketball             81.64620  \n",
       "11     5-9   370.0    Washington  6912869.0  Basketball             83.91415  \n",
       "19     6-3   400.0  Georgia Tech  6300000.0  Basketball             90.71800  \n",
       "22    5-11   350.0    Miami (FL)  1500000.0  Basketball             79.37825  \n",
       "28     6-3   410.0     Texas A&M   947276.0  Basketball             92.98595  \n",
       "..     ...     ...           ...        ...         ...                  ...  \n",
       "436    6-3   390.0   Weber State  4236287.0  Basketball             88.45005  \n",
       "440    6-1   346.0        Dayton  2854940.0  Basketball             78.47107  \n",
       "443    6-1   382.0      Michigan  2658240.0  Basketball             86.63569  \n",
       "453    6-3   406.0        Butler  2433333.0  Basketball             92.07877  \n",
       "454    6-1   358.0           NaN   900000.0  Basketball             81.19261  \n",
       "\n",
       "[81 rows x 12 columns]"
      ]
     },
     "execution_count": 130,
     "metadata": {},
     "output_type": "execute_result"
    }
   ],
   "source": [
    "nba[c1&c2]"
   ]
  },
  {
   "cell_type": "code",
   "execution_count": null,
   "metadata": {},
   "outputs": [],
   "source": []
  }
 ],
 "metadata": {
  "kernelspec": {
   "display_name": "Python 3",
   "language": "python",
   "name": "python3"
  },
  "language_info": {
   "codemirror_mode": {
    "name": "ipython",
    "version": 3
   },
   "file_extension": ".py",
   "mimetype": "text/x-python",
   "name": "python",
   "nbconvert_exporter": "python",
   "pygments_lexer": "ipython3",
   "version": "3.8.8"
  }
 },
 "nbformat": 4,
 "nbformat_minor": 4
}
